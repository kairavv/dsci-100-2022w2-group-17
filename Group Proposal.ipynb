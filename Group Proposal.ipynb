{
 "cells": [
  {
   "cell_type": "markdown",
   "id": "15fed911-a3a6-4fdd-938c-12e2960969dd",
   "metadata": {},
   "source": [
    "# Group 17 Proposal (Weekend Airbnb in Paris)\n"
   ]
  },
  {
   "cell_type": "markdown",
   "id": "7ab26f46-feeb-404a-897c-ceea85608159",
   "metadata": {},
   "source": [
    "## Inrtoduction \n",
    "\n",
    "\n",
    "\n",
    "\n",
    "\n"
   ]
  },
  {
   "cell_type": "markdown",
   "id": "e8806d49-f5bb-4def-9f15-cf862055fe31",
   "metadata": {},
   "source": [
    "Airbnbs have specific attributes (room type, cleanliness rating, superhost status etc.) that determine its price and perceived quality. The quality of a Airbnbs often evaluated by users through a online/digital rating system. Attributes of Parisian Airbnbs have been determined and collected into a data set that is available on kaggle. It can be used to analyze trends in Airbnb prices and popularity across different cities and neighborhoods, as well as to identify factors that may influence prices and demand. The data set includes 19 variables in each respective column, with each row documenting an Airbnb's price. \n",
    "\n",
    "The following are the potential predictor variables including their description: \n",
    "\n",
    "| Column name | Description |\n",
    "| --- | --- |\n",
    "| realSum | The total price of the Airbnb listing. (Numeric) |\n",
    "| room_type | The type of room being offered (e.g. private, shared, etc.). (Categorical) |\n",
    "| room_shared | Whether the room is shared or not. (Boolean) |\n",
    "| room_private | Whether the room is private or not. (Boolean) |\n",
    "| person_capacity | The maximum number of people that can stay in the room. (Numeric) |\n",
    "| host_is_superhost | Whether the host is a superhost or not. (Boolean) |\n",
    "| multi | Whether the listing is for multiple rooms or not. (Boolean) |\n",
    "| biz | Whether the listing is for business purposes or not. (Boolean) |\n",
    "| cleanliness_rating | The cleanliness rating of the listing. (Numeric) |\n",
    "| guest_satisfaction_overall | The overall guest satisfaction rating of the listing. (Numeric) |\n",
    "| bedrooms | The number of bedrooms in the listing. (Numeric) |\n",
    "| dist | The distance from the city centre. (Numeric) |\n",
    "| metro_dist | The distance from the nearest metro station. (Numeric) |\n",
    "| lng | The longitude of the listing. (Numeric) |\n",
    "| lat | The latitude of the listing. (Numeric) |\n",
    "\n",
    "This project will take that data and attempt to answer the question: What factors affect Airbnb Prices in Paris on Weekends?"
   ]
  },
  {
   "cell_type": "code",
   "execution_count": 42,
   "id": "48286469-2ebd-41db-a5f0-242c44b9a987",
   "metadata": {},
   "outputs": [],
   "source": [
    "#load the necessary packages\n",
    "library(tidyverse)\n",
    "library(repr)\n",
    "library(tidymodels)\n",
    "library(gridExtra)\n",
    "options(repr.matrix.max.rows = 6)"
   ]
  },
  {
   "cell_type": "markdown",
   "id": "d8071fe4-760e-49f7-b468-9da3736acb19",
   "metadata": {},
   "source": [
    "## Preliminary exploratory data analysis"
   ]
  },
  {
   "cell_type": "code",
   "execution_count": 56,
   "id": "00695546-2316-45bd-a56b-85f4651b5653",
   "metadata": {},
   "outputs": [
    {
     "ename": "ERROR",
     "evalue": "Error in read_csv(paris_data_link, sep = \",\"): unused argument (sep = \",\")\n",
     "output_type": "error",
     "traceback": [
      "Error in read_csv(paris_data_link, sep = \",\"): unused argument (sep = \",\")\nTraceback:\n"
     ]
    }
   ],
   "source": [
    "# read data frame from kaggle \n",
    "paris_data_link <- \"https://www.kaggle.com/datasets/thedevastator/airbnb-prices-in-european-cities?select=paris_weekends.csv\"\n",
    "# use ';' delimiter\n",
    "paris_data <- read_csv(paris_data_link, sep = \",\")\n",
    "\n",
    "paris_data"
   ]
  },
  {
   "cell_type": "code",
   "execution_count": 44,
   "id": "6f7442d9-bf73-46b7-863e-20fc4945f53c",
   "metadata": {},
   "outputs": [
    {
     "data": {
      "text/html": [
       "<table class=\"dataframe\">\n",
       "<caption>A tibble: 3558 × 7</caption>\n",
       "<thead>\n",
       "\t<tr><th scope=col>realSum</th><th scope=col>cleanliness_rating</th><th scope=col>guest_satisfaction_overall</th><th scope=col>dist</th><th scope=col>metro_dist</th><th scope=col>room_type</th><th scope=col>host_is_superhost</th></tr>\n",
       "\t<tr><th scope=col>&lt;dbl&gt;</th><th scope=col>&lt;dbl&gt;</th><th scope=col>&lt;dbl&gt;</th><th scope=col>&lt;dbl&gt;</th><th scope=col>&lt;dbl&gt;</th><th scope=col>&lt;chr&gt;</th><th scope=col>&lt;lgl&gt;</th></tr>\n",
       "</thead>\n",
       "<tbody>\n",
       "\t<tr><td>536.3967</td><td> 9</td><td> 89</td><td>1.3512012</td><td>0.2123455</td><td>Entire home/apt</td><td>FALSE</td></tr>\n",
       "\t<tr><td>290.1016</td><td>10</td><td> 97</td><td>0.6998212</td><td>0.1937103</td><td>Private room   </td><td> TRUE</td></tr>\n",
       "\t<tr><td>445.7545</td><td>10</td><td>100</td><td>0.9689817</td><td>0.2943429</td><td>Entire home/apt</td><td>FALSE</td></tr>\n",
       "\t<tr><td>⋮</td><td>⋮</td><td>⋮</td><td>⋮</td><td>⋮</td><td>⋮</td><td>⋮</td></tr>\n",
       "\t<tr><td>223.9258</td><td> 9</td><td>89</td><td>4.205205</td><td>0.2530289</td><td>Entire home/apt</td><td>FALSE</td></tr>\n",
       "\t<tr><td>200.8575</td><td> 9</td><td>93</td><td>2.891214</td><td>0.2406744</td><td>Entire home/apt</td><td> TRUE</td></tr>\n",
       "\t<tr><td>301.2862</td><td>10</td><td>92</td><td>3.469749</td><td>0.5085167</td><td>Entire home/apt</td><td>FALSE</td></tr>\n",
       "</tbody>\n",
       "</table>\n"
      ],
      "text/latex": [
       "A tibble: 3558 × 7\n",
       "\\begin{tabular}{lllllll}\n",
       " realSum & cleanliness\\_rating & guest\\_satisfaction\\_overall & dist & metro\\_dist & room\\_type & host\\_is\\_superhost\\\\\n",
       " <dbl> & <dbl> & <dbl> & <dbl> & <dbl> & <chr> & <lgl>\\\\\n",
       "\\hline\n",
       "\t 536.3967 &  9 &  89 & 1.3512012 & 0.2123455 & Entire home/apt & FALSE\\\\\n",
       "\t 290.1016 & 10 &  97 & 0.6998212 & 0.1937103 & Private room    &  TRUE\\\\\n",
       "\t 445.7545 & 10 & 100 & 0.9689817 & 0.2943429 & Entire home/apt & FALSE\\\\\n",
       "\t ⋮ & ⋮ & ⋮ & ⋮ & ⋮ & ⋮ & ⋮\\\\\n",
       "\t 223.9258 &  9 & 89 & 4.205205 & 0.2530289 & Entire home/apt & FALSE\\\\\n",
       "\t 200.8575 &  9 & 93 & 2.891214 & 0.2406744 & Entire home/apt &  TRUE\\\\\n",
       "\t 301.2862 & 10 & 92 & 3.469749 & 0.5085167 & Entire home/apt & FALSE\\\\\n",
       "\\end{tabular}\n"
      ],
      "text/markdown": [
       "\n",
       "A tibble: 3558 × 7\n",
       "\n",
       "| realSum &lt;dbl&gt; | cleanliness_rating &lt;dbl&gt; | guest_satisfaction_overall &lt;dbl&gt; | dist &lt;dbl&gt; | metro_dist &lt;dbl&gt; | room_type &lt;chr&gt; | host_is_superhost &lt;lgl&gt; |\n",
       "|---|---|---|---|---|---|---|\n",
       "| 536.3967 |  9 |  89 | 1.3512012 | 0.2123455 | Entire home/apt | FALSE |\n",
       "| 290.1016 | 10 |  97 | 0.6998212 | 0.1937103 | Private room    |  TRUE |\n",
       "| 445.7545 | 10 | 100 | 0.9689817 | 0.2943429 | Entire home/apt | FALSE |\n",
       "| ⋮ | ⋮ | ⋮ | ⋮ | ⋮ | ⋮ | ⋮ |\n",
       "| 223.9258 |  9 | 89 | 4.205205 | 0.2530289 | Entire home/apt | FALSE |\n",
       "| 200.8575 |  9 | 93 | 2.891214 | 0.2406744 | Entire home/apt |  TRUE |\n",
       "| 301.2862 | 10 | 92 | 3.469749 | 0.5085167 | Entire home/apt | FALSE |\n",
       "\n"
      ],
      "text/plain": [
       "     realSum  cleanliness_rating guest_satisfaction_overall dist     \n",
       "1    536.3967  9                  89                        1.3512012\n",
       "2    290.1016 10                  97                        0.6998212\n",
       "3    445.7545 10                 100                        0.9689817\n",
       "⋮    ⋮        ⋮                  ⋮                          ⋮        \n",
       "3556 223.9258  9                 89                         4.205205 \n",
       "3557 200.8575  9                 93                         2.891214 \n",
       "3558 301.2862 10                 92                         3.469749 \n",
       "     metro_dist room_type       host_is_superhost\n",
       "1    0.2123455  Entire home/apt FALSE            \n",
       "2    0.1937103  Private room     TRUE            \n",
       "3    0.2943429  Entire home/apt FALSE            \n",
       "⋮    ⋮          ⋮               ⋮                \n",
       "3556 0.2530289  Entire home/apt FALSE            \n",
       "3557 0.2406744  Entire home/apt  TRUE            \n",
       "3558 0.5085167  Entire home/apt FALSE            "
      ]
     },
     "metadata": {},
     "output_type": "display_data"
    }
   ],
   "source": [
    "#filter the needed columns\n",
    "new_paris_data <- paris_data |>\n",
    "  select(realSum, cleanliness_rating, guest_satisfaction_overall, dist, metro_dist, \n",
    "        room_type, host_is_superhost)\n",
    "new_paris_data "
   ]
  },
  {
   "cell_type": "code",
   "execution_count": 45,
   "id": "746c8556-3558-453f-a242-b27d70feecbc",
   "metadata": {
    "tags": []
   },
   "outputs": [],
   "source": [
    "#set the seed\n",
    "set.seed(8888)"
   ]
  },
  {
   "cell_type": "code",
   "execution_count": 46,
   "id": "70c946f8-9eb4-405b-88f6-9525bf25fd61",
   "metadata": {},
   "outputs": [],
   "source": [
    "#splitting the data\n",
    "paris_split <- initial_split(new_paris_data, prop = 0.75, strata = realSum) \n",
    "paris_train <- training(paris_split)\n",
    "paris_test <- testing(paris_split)"
   ]
  },
  {
   "cell_type": "code",
   "execution_count": 47,
   "id": "3abe0519-e64d-45d9-a06b-9d514e8110dd",
   "metadata": {},
   "outputs": [
    {
     "data": {
      "text/html": [
       "<table class=\"dataframe\">\n",
       "<caption>A tibble: 8 × 2</caption>\n",
       "<thead>\n",
       "\t<tr><th scope=col>cleanliness_rating</th><th scope=col>n</th></tr>\n",
       "\t<tr><th scope=col>&lt;dbl&gt;</th><th scope=col>&lt;int&gt;</th></tr>\n",
       "</thead>\n",
       "<tbody>\n",
       "\t<tr><td>2</td><td>3</td></tr>\n",
       "\t<tr><td>4</td><td>7</td></tr>\n",
       "\t<tr><td>5</td><td>2</td></tr>\n",
       "\t<tr><td>⋮</td><td>⋮</td></tr>\n",
       "\t<tr><td> 8</td><td> 272</td></tr>\n",
       "\t<tr><td> 9</td><td> 947</td></tr>\n",
       "\t<tr><td>10</td><td>1334</td></tr>\n",
       "</tbody>\n",
       "</table>\n"
      ],
      "text/latex": [
       "A tibble: 8 × 2\n",
       "\\begin{tabular}{ll}\n",
       " cleanliness\\_rating & n\\\\\n",
       " <dbl> & <int>\\\\\n",
       "\\hline\n",
       "\t 2 & 3\\\\\n",
       "\t 4 & 7\\\\\n",
       "\t 5 & 2\\\\\n",
       "\t ⋮ & ⋮\\\\\n",
       "\t  8 &  272\\\\\n",
       "\t  9 &  947\\\\\n",
       "\t 10 & 1334\\\\\n",
       "\\end{tabular}\n"
      ],
      "text/markdown": [
       "\n",
       "A tibble: 8 × 2\n",
       "\n",
       "| cleanliness_rating &lt;dbl&gt; | n &lt;int&gt; |\n",
       "|---|---|\n",
       "| 2 | 3 |\n",
       "| 4 | 7 |\n",
       "| 5 | 2 |\n",
       "| ⋮ | ⋮ |\n",
       "|  8 |  272 |\n",
       "|  9 |  947 |\n",
       "| 10 | 1334 |\n",
       "\n"
      ],
      "text/plain": [
       "  cleanliness_rating n   \n",
       "1 2                  3   \n",
       "2 4                  7   \n",
       "3 5                  2   \n",
       "⋮ ⋮                  ⋮   \n",
       "6  8                  272\n",
       "7  9                  947\n",
       "8 10                 1334"
      ]
     },
     "metadata": {},
     "output_type": "display_data"
    },
    {
     "data": {
      "text/html": [
       "<table class=\"dataframe\">\n",
       "<caption>A tibble: 42 × 2</caption>\n",
       "<thead>\n",
       "\t<tr><th scope=col>guest_satisfaction_overall</th><th scope=col>n</th></tr>\n",
       "\t<tr><th scope=col>&lt;dbl&gt;</th><th scope=col>&lt;int&gt;</th></tr>\n",
       "</thead>\n",
       "<tbody>\n",
       "\t<tr><td>20</td><td>4</td></tr>\n",
       "\t<tr><td>40</td><td>5</td></tr>\n",
       "\t<tr><td>50</td><td>4</td></tr>\n",
       "\t<tr><td>⋮</td><td>⋮</td></tr>\n",
       "\t<tr><td> 98</td><td>138</td></tr>\n",
       "\t<tr><td> 99</td><td> 70</td></tr>\n",
       "\t<tr><td>100</td><td>584</td></tr>\n",
       "</tbody>\n",
       "</table>\n"
      ],
      "text/latex": [
       "A tibble: 42 × 2\n",
       "\\begin{tabular}{ll}\n",
       " guest\\_satisfaction\\_overall & n\\\\\n",
       " <dbl> & <int>\\\\\n",
       "\\hline\n",
       "\t 20 & 4\\\\\n",
       "\t 40 & 5\\\\\n",
       "\t 50 & 4\\\\\n",
       "\t ⋮ & ⋮\\\\\n",
       "\t  98 & 138\\\\\n",
       "\t  99 &  70\\\\\n",
       "\t 100 & 584\\\\\n",
       "\\end{tabular}\n"
      ],
      "text/markdown": [
       "\n",
       "A tibble: 42 × 2\n",
       "\n",
       "| guest_satisfaction_overall &lt;dbl&gt; | n &lt;int&gt; |\n",
       "|---|---|\n",
       "| 20 | 4 |\n",
       "| 40 | 5 |\n",
       "| 50 | 4 |\n",
       "| ⋮ | ⋮ |\n",
       "|  98 | 138 |\n",
       "|  99 |  70 |\n",
       "| 100 | 584 |\n",
       "\n"
      ],
      "text/plain": [
       "   guest_satisfaction_overall n  \n",
       "1  20                         4  \n",
       "2  40                         5  \n",
       "3  50                         4  \n",
       "⋮  ⋮                          ⋮  \n",
       "40  98                        138\n",
       "41  99                         70\n",
       "42 100                        584"
      ]
     },
     "metadata": {},
     "output_type": "display_data"
    },
    {
     "data": {
      "text/html": [
       "<table class=\"dataframe\">\n",
       "<caption>A tibble: 2667 × 2</caption>\n",
       "<thead>\n",
       "\t<tr><th scope=col>dist</th><th scope=col>n</th></tr>\n",
       "\t<tr><th scope=col>&lt;dbl&gt;</th><th scope=col>&lt;int&gt;</th></tr>\n",
       "</thead>\n",
       "<tbody>\n",
       "\t<tr><td>0.1395432</td><td>1</td></tr>\n",
       "\t<tr><td>0.1470952</td><td>1</td></tr>\n",
       "\t<tr><td>0.1714837</td><td>1</td></tr>\n",
       "\t<tr><td>⋮</td><td>⋮</td></tr>\n",
       "\t<tr><td>7.620912</td><td>1</td></tr>\n",
       "\t<tr><td>7.680000</td><td>1</td></tr>\n",
       "\t<tr><td>7.703733</td><td>1</td></tr>\n",
       "</tbody>\n",
       "</table>\n"
      ],
      "text/latex": [
       "A tibble: 2667 × 2\n",
       "\\begin{tabular}{ll}\n",
       " dist & n\\\\\n",
       " <dbl> & <int>\\\\\n",
       "\\hline\n",
       "\t 0.1395432 & 1\\\\\n",
       "\t 0.1470952 & 1\\\\\n",
       "\t 0.1714837 & 1\\\\\n",
       "\t ⋮ & ⋮\\\\\n",
       "\t 7.620912 & 1\\\\\n",
       "\t 7.680000 & 1\\\\\n",
       "\t 7.703733 & 1\\\\\n",
       "\\end{tabular}\n"
      ],
      "text/markdown": [
       "\n",
       "A tibble: 2667 × 2\n",
       "\n",
       "| dist &lt;dbl&gt; | n &lt;int&gt; |\n",
       "|---|---|\n",
       "| 0.1395432 | 1 |\n",
       "| 0.1470952 | 1 |\n",
       "| 0.1714837 | 1 |\n",
       "| ⋮ | ⋮ |\n",
       "| 7.620912 | 1 |\n",
       "| 7.680000 | 1 |\n",
       "| 7.703733 | 1 |\n",
       "\n"
      ],
      "text/plain": [
       "     dist      n\n",
       "1    0.1395432 1\n",
       "2    0.1470952 1\n",
       "3    0.1714837 1\n",
       "⋮    ⋮         ⋮\n",
       "2665 7.620912  1\n",
       "2666 7.680000  1\n",
       "2667 7.703733  1"
      ]
     },
     "metadata": {},
     "output_type": "display_data"
    },
    {
     "data": {
      "text/html": [
       "<table class=\"dataframe\">\n",
       "<caption>A tibble: 2667 × 2</caption>\n",
       "<thead>\n",
       "\t<tr><th scope=col>metro_dist</th><th scope=col>n</th></tr>\n",
       "\t<tr><th scope=col>&lt;dbl&gt;</th><th scope=col>&lt;int&gt;</th></tr>\n",
       "</thead>\n",
       "<tbody>\n",
       "\t<tr><td>0.003220008</td><td>1</td></tr>\n",
       "\t<tr><td>0.003935058</td><td>1</td></tr>\n",
       "\t<tr><td>0.006388847</td><td>1</td></tr>\n",
       "\t<tr><td>⋮</td><td>⋮</td></tr>\n",
       "\t<tr><td>0.9102045</td><td>1</td></tr>\n",
       "\t<tr><td>0.9689053</td><td>1</td></tr>\n",
       "\t<tr><td>1.0458365</td><td>1</td></tr>\n",
       "</tbody>\n",
       "</table>\n"
      ],
      "text/latex": [
       "A tibble: 2667 × 2\n",
       "\\begin{tabular}{ll}\n",
       " metro\\_dist & n\\\\\n",
       " <dbl> & <int>\\\\\n",
       "\\hline\n",
       "\t 0.003220008 & 1\\\\\n",
       "\t 0.003935058 & 1\\\\\n",
       "\t 0.006388847 & 1\\\\\n",
       "\t ⋮ & ⋮\\\\\n",
       "\t 0.9102045 & 1\\\\\n",
       "\t 0.9689053 & 1\\\\\n",
       "\t 1.0458365 & 1\\\\\n",
       "\\end{tabular}\n"
      ],
      "text/markdown": [
       "\n",
       "A tibble: 2667 × 2\n",
       "\n",
       "| metro_dist &lt;dbl&gt; | n &lt;int&gt; |\n",
       "|---|---|\n",
       "| 0.003220008 | 1 |\n",
       "| 0.003935058 | 1 |\n",
       "| 0.006388847 | 1 |\n",
       "| ⋮ | ⋮ |\n",
       "| 0.9102045 | 1 |\n",
       "| 0.9689053 | 1 |\n",
       "| 1.0458365 | 1 |\n",
       "\n"
      ],
      "text/plain": [
       "     metro_dist  n\n",
       "1    0.003220008 1\n",
       "2    0.003935058 1\n",
       "3    0.006388847 1\n",
       "⋮    ⋮           ⋮\n",
       "2665 0.9102045   1\n",
       "2666 0.9689053   1\n",
       "2667 1.0458365   1"
      ]
     },
     "metadata": {},
     "output_type": "display_data"
    },
    {
     "data": {
      "text/html": [
       "<table class=\"dataframe\">\n",
       "<caption>A tibble: 3 × 2</caption>\n",
       "<thead>\n",
       "\t<tr><th scope=col>room_type</th><th scope=col>n</th></tr>\n",
       "\t<tr><th scope=col>&lt;chr&gt;</th><th scope=col>&lt;int&gt;</th></tr>\n",
       "</thead>\n",
       "<tbody>\n",
       "\t<tr><td>Entire home/apt</td><td>2065</td></tr>\n",
       "\t<tr><td>Private room   </td><td> 568</td></tr>\n",
       "\t<tr><td>Shared room    </td><td>  34</td></tr>\n",
       "</tbody>\n",
       "</table>\n"
      ],
      "text/latex": [
       "A tibble: 3 × 2\n",
       "\\begin{tabular}{ll}\n",
       " room\\_type & n\\\\\n",
       " <chr> & <int>\\\\\n",
       "\\hline\n",
       "\t Entire home/apt & 2065\\\\\n",
       "\t Private room    &  568\\\\\n",
       "\t Shared room     &   34\\\\\n",
       "\\end{tabular}\n"
      ],
      "text/markdown": [
       "\n",
       "A tibble: 3 × 2\n",
       "\n",
       "| room_type &lt;chr&gt; | n &lt;int&gt; |\n",
       "|---|---|\n",
       "| Entire home/apt | 2065 |\n",
       "| Private room    |  568 |\n",
       "| Shared room     |   34 |\n",
       "\n"
      ],
      "text/plain": [
       "  room_type       n   \n",
       "1 Entire home/apt 2065\n",
       "2 Private room     568\n",
       "3 Shared room       34"
      ]
     },
     "metadata": {},
     "output_type": "display_data"
    },
    {
     "data": {
      "text/html": [
       "<table class=\"dataframe\">\n",
       "<caption>A tibble: 2 × 2</caption>\n",
       "<thead>\n",
       "\t<tr><th scope=col>host_is_superhost</th><th scope=col>n</th></tr>\n",
       "\t<tr><th scope=col>&lt;lgl&gt;</th><th scope=col>&lt;int&gt;</th></tr>\n",
       "</thead>\n",
       "<tbody>\n",
       "\t<tr><td>FALSE</td><td>2290</td></tr>\n",
       "\t<tr><td> TRUE</td><td> 377</td></tr>\n",
       "</tbody>\n",
       "</table>\n"
      ],
      "text/latex": [
       "A tibble: 2 × 2\n",
       "\\begin{tabular}{ll}\n",
       " host\\_is\\_superhost & n\\\\\n",
       " <lgl> & <int>\\\\\n",
       "\\hline\n",
       "\t FALSE & 2290\\\\\n",
       "\t  TRUE &  377\\\\\n",
       "\\end{tabular}\n"
      ],
      "text/markdown": [
       "\n",
       "A tibble: 2 × 2\n",
       "\n",
       "| host_is_superhost &lt;lgl&gt; | n &lt;int&gt; |\n",
       "|---|---|\n",
       "| FALSE | 2290 |\n",
       "|  TRUE |  377 |\n",
       "\n"
      ],
      "text/plain": [
       "  host_is_superhost n   \n",
       "1 FALSE             2290\n",
       "2  TRUE              377"
      ]
     },
     "metadata": {},
     "output_type": "display_data"
    }
   ],
   "source": [
    "#Cleanliness_rating\n",
    "paris_proportions1 <- paris_train |>\n",
    "group_by(cleanliness_rating) |>\n",
    "summarize(n = n())  #used to count the number of observations in a given group\n",
    "paris_proportions1\n",
    "\n",
    "#guest_satisfaction_overall\n",
    "paris_proportions2 <- paris_train |>\n",
    "group_by(guest_satisfaction_overall) |>\n",
    "summarize(n = n())\n",
    "paris_proportions2\n",
    "\n",
    "#dist\n",
    "paris_proportions3 <- paris_train |>\n",
    "group_by(dist) |>\n",
    "summarize(n = n()) \n",
    "paris_proportions3\n",
    "\n",
    "#metro_dist\n",
    "paris_proportions4 <- paris_train |>\n",
    "group_by(metro_dist) |>\n",
    "summarize(n = n()) \n",
    "paris_proportions4\n",
    "\n",
    "#room_type\n",
    "paris_proportions5 <- paris_train |>\n",
    "group_by(room_type) |>\n",
    "summarize(n = n()) \n",
    "paris_proportions5\n",
    "\n",
    "#host_is_superhost\n",
    "paris_proportions6 <- paris_train |>\n",
    "group_by(host_is_superhost) |>\n",
    "summarize(n = n()) \n",
    "paris_proportions6\n"
   ]
  },
  {
   "cell_type": "code",
   "execution_count": null,
   "id": "6a519633-caea-41df-a491-e31d7da56740",
   "metadata": {},
   "outputs": [],
   "source": []
  }
 ],
 "metadata": {
  "kernelspec": {
   "display_name": "R",
   "language": "R",
   "name": "ir"
  },
  "language_info": {
   "codemirror_mode": "r",
   "file_extension": ".r",
   "mimetype": "text/x-r-source",
   "name": "R",
   "pygments_lexer": "r",
   "version": "4.1.3"
  }
 },
 "nbformat": 4,
 "nbformat_minor": 5
}
