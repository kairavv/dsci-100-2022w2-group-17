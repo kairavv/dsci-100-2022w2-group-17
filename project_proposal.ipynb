{
 "cells": [
  {
   "cell_type": "markdown",
   "id": "15fed911-a3a6-4fdd-938c-12e2960969dd",
   "metadata": {},
   "source": [
    "# What factors affect Airbnb Prices in Paris on Weekends?\n"
   ]
  },
  {
   "cell_type": "markdown",
   "id": "7ab26f46-feeb-404a-897c-ceea85608159",
   "metadata": {
    "tags": []
   },
   "source": [
    "## Inrtoduction \n",
    "\n",
    "Airbnbs have specific attributes (room type, cleanliness rating, superhost status etc.) that determine its price and perceived quality. The quality of a Airbnbs often evaluated by users through a online/digital rating system. Attributes of Parisian Airbnbs have been determined and collected into a data set that is available on kaggle. It can be used to analyze trends in Airbnb prices and popularity across different cities and neighborhoods, as well as to identify factors that may influence prices and demand. The data set includes 19 variables in each respective column, with each row documenting an Airbnb's price. \n",
    "\n",
    "For details of data set, reference it [here](https://www.kaggle.com/datasets/thedevastator/airbnb-prices-in-european-cities?select=paris_weekends.csv ).\n",
    "\n",
    "The following are the potential predictor variables including their description: \n",
    "\n",
    "| Variable | Description | Type |\n",
    "| --- | --- | --- |\n",
    "| realSum | The total price of the Airbnb listing. | Numeric |\n",
    "| room_type | The type of room being offered (e.g. private, shared, etc.). | Categorical |\n",
    "| room_shared | Whether the room is shared or not. | Boolean |\n",
    "| room_private | Whether the room is private or not. | Boolean |\n",
    "| person_capacity | The maximum number of people that can stay in the room. | Numeric |\n",
    "| host_is_superhost | Whether the host is a superhost or not. | Boolean |\n",
    "| multi | Whether the listing is for multiple rooms or not. | Boolean |\n",
    "| biz | Whether the listing is for business purposes or not. | Boolean |\n",
    "| cleanliness_rating | The cleanliness rating of the listing. | Numeric |\n",
    "| guest_satisfaction_overall | The overall guest satisfaction rating of the listing. | Numeric |\n",
    "| bedrooms | The number of bedrooms in the listing. | Numeric |\n",
    "| dist | The distance from the city centre. | Numeric |\n",
    "| metro_dist | The distance from the nearest metro station. | Numeric |\n",
    "| lng | The longitude of the listing. | Numeric |\n",
    "| lat | The latitude of the listing. | Numeric |\n",
    "\n",
    "This project will take this data and attempt to answer the question: *What factors affect Airbnb Prices in Paris on Weekends?*\n",
    "\n",
    "\n",
    "\n"
   ]
  },
  {
   "cell_type": "markdown",
   "id": "f23c94d3-7b0d-47aa-afb0-645e89541500",
   "metadata": {
    "tags": []
   },
   "source": [
    "## Preliminary exploratory data analysis\n",
    "\n",
    "##### The preliminary exploratory data analysis will include:\n",
    "- Reading dataset from web link\n",
    "- Cleaning and wrangling data into a tidy format\n",
    "- Splitting into training data and test data\n",
    "- Statistics of training subset\n",
    "- Visualizing training data comparing distributions of predictor variables"
   ]
  },
  {
   "cell_type": "code",
   "execution_count": 7,
   "id": "48286469-2ebd-41db-a5f0-242c44b9a987",
   "metadata": {},
   "outputs": [
    {
     "name": "stderr",
     "output_type": "stream",
     "text": [
      "── \u001b[1mAttaching packages\u001b[22m ─────────────────────────────────────── tidyverse 1.3.1 ──\n",
      "\n",
      "\u001b[32m✔\u001b[39m \u001b[34mggplot2\u001b[39m 3.3.6     \u001b[32m✔\u001b[39m \u001b[34mpurrr  \u001b[39m 0.3.4\n",
      "\u001b[32m✔\u001b[39m \u001b[34mtibble \u001b[39m 3.1.7     \u001b[32m✔\u001b[39m \u001b[34mdplyr  \u001b[39m 1.0.9\n",
      "\u001b[32m✔\u001b[39m \u001b[34mtidyr  \u001b[39m 1.2.0     \u001b[32m✔\u001b[39m \u001b[34mstringr\u001b[39m 1.4.0\n",
      "\u001b[32m✔\u001b[39m \u001b[34mreadr  \u001b[39m 2.1.2     \u001b[32m✔\u001b[39m \u001b[34mforcats\u001b[39m 0.5.1\n",
      "\n",
      "── \u001b[1mConflicts\u001b[22m ────────────────────────────────────────── tidyverse_conflicts() ──\n",
      "\u001b[31m✖\u001b[39m \u001b[34mdplyr\u001b[39m::\u001b[32mfilter()\u001b[39m masks \u001b[34mstats\u001b[39m::filter()\n",
      "\u001b[31m✖\u001b[39m \u001b[34mdplyr\u001b[39m::\u001b[32mlag()\u001b[39m    masks \u001b[34mstats\u001b[39m::lag()\n",
      "\n",
      "── \u001b[1mAttaching packages\u001b[22m ────────────────────────────────────── tidymodels 1.0.0 ──\n",
      "\n",
      "\u001b[32m✔\u001b[39m \u001b[34mbroom       \u001b[39m 1.0.0     \u001b[32m✔\u001b[39m \u001b[34mrsample     \u001b[39m 1.0.0\n",
      "\u001b[32m✔\u001b[39m \u001b[34mdials       \u001b[39m 1.0.0     \u001b[32m✔\u001b[39m \u001b[34mtune        \u001b[39m 1.0.0\n",
      "\u001b[32m✔\u001b[39m \u001b[34minfer       \u001b[39m 1.0.2     \u001b[32m✔\u001b[39m \u001b[34mworkflows   \u001b[39m 1.0.0\n",
      "\u001b[32m✔\u001b[39m \u001b[34mmodeldata   \u001b[39m 1.0.0     \u001b[32m✔\u001b[39m \u001b[34mworkflowsets\u001b[39m 1.0.0\n",
      "\u001b[32m✔\u001b[39m \u001b[34mparsnip     \u001b[39m 1.0.0     \u001b[32m✔\u001b[39m \u001b[34myardstick   \u001b[39m 1.0.0\n",
      "\u001b[32m✔\u001b[39m \u001b[34mrecipes     \u001b[39m 1.0.1     \n",
      "\n",
      "── \u001b[1mConflicts\u001b[22m ───────────────────────────────────────── tidymodels_conflicts() ──\n",
      "\u001b[31m✖\u001b[39m \u001b[34mscales\u001b[39m::\u001b[32mdiscard()\u001b[39m masks \u001b[34mpurrr\u001b[39m::discard()\n",
      "\u001b[31m✖\u001b[39m \u001b[34mdplyr\u001b[39m::\u001b[32mfilter()\u001b[39m   masks \u001b[34mstats\u001b[39m::filter()\n",
      "\u001b[31m✖\u001b[39m \u001b[34mrecipes\u001b[39m::\u001b[32mfixed()\u001b[39m  masks \u001b[34mstringr\u001b[39m::fixed()\n",
      "\u001b[31m✖\u001b[39m \u001b[34mdplyr\u001b[39m::\u001b[32mlag()\u001b[39m      masks \u001b[34mstats\u001b[39m::lag()\n",
      "\u001b[31m✖\u001b[39m \u001b[34myardstick\u001b[39m::\u001b[32mspec()\u001b[39m masks \u001b[34mreadr\u001b[39m::spec()\n",
      "\u001b[31m✖\u001b[39m \u001b[34mrecipes\u001b[39m::\u001b[32mstep()\u001b[39m   masks \u001b[34mstats\u001b[39m::step()\n",
      "\u001b[34m•\u001b[39m Learn how to get started at \u001b[32mhttps://www.tidymodels.org/start/\u001b[39m\n",
      "\n",
      "Registered S3 method overwritten by 'GGally':\n",
      "  method from   \n",
      "  +.gg   ggplot2\n",
      "\n",
      "\n",
      "Attaching package: ‘gridExtra’\n",
      "\n",
      "\n",
      "The following object is masked from ‘package:dplyr’:\n",
      "\n",
      "    combine\n",
      "\n",
      "\n"
     ]
    }
   ],
   "source": [
    "#load the necessary libraries\n",
    "library(repr)\n",
    "library(tidyverse)\n",
    "library(tidymodels)\n",
    "library(GGally)\n",
    "library(gridExtra)\n",
    "options(repr.matrix.max.rows = 6)"
   ]
  },
  {
   "cell_type": "markdown",
   "id": "d8071fe4-760e-49f7-b468-9da3736acb19",
   "metadata": {},
   "source": [
    "#### Reading from web link\n",
    "Read the data frame from our GitHub repository"
   ]
  },
  {
   "cell_type": "code",
   "execution_count": 51,
   "id": "00695546-2316-45bd-a56b-85f4651b5653",
   "metadata": {},
   "outputs": [
    {
     "data": {
      "text/html": [
       "<table class=\"dataframe\">\n",
       "<caption>A data.frame: 3558 × 20</caption>\n",
       "<thead>\n",
       "\t<tr><th scope=col>X</th><th scope=col>realSum</th><th scope=col>room_type</th><th scope=col>room_shared</th><th scope=col>room_private</th><th scope=col>person_capacity</th><th scope=col>host_is_superhost</th><th scope=col>multi</th><th scope=col>biz</th><th scope=col>cleanliness_rating</th><th scope=col>guest_satisfaction_overall</th><th scope=col>bedrooms</th><th scope=col>dist</th><th scope=col>metro_dist</th><th scope=col>attr_index</th><th scope=col>attr_index_norm</th><th scope=col>rest_index</th><th scope=col>rest_index_norm</th><th scope=col>lng</th><th scope=col>lat</th></tr>\n",
       "\t<tr><th scope=col>&lt;int&gt;</th><th scope=col>&lt;dbl&gt;</th><th scope=col>&lt;chr&gt;</th><th scope=col>&lt;chr&gt;</th><th scope=col>&lt;chr&gt;</th><th scope=col>&lt;dbl&gt;</th><th scope=col>&lt;chr&gt;</th><th scope=col>&lt;int&gt;</th><th scope=col>&lt;int&gt;</th><th scope=col>&lt;dbl&gt;</th><th scope=col>&lt;dbl&gt;</th><th scope=col>&lt;int&gt;</th><th scope=col>&lt;dbl&gt;</th><th scope=col>&lt;dbl&gt;</th><th scope=col>&lt;dbl&gt;</th><th scope=col>&lt;dbl&gt;</th><th scope=col>&lt;dbl&gt;</th><th scope=col>&lt;dbl&gt;</th><th scope=col>&lt;dbl&gt;</th><th scope=col>&lt;dbl&gt;</th></tr>\n",
       "</thead>\n",
       "<tbody>\n",
       "\t<tr><td>0</td><td>536.3967</td><td>Entire home/apt</td><td>False</td><td>False</td><td>5</td><td>False</td><td>0</td><td>1</td><td> 9</td><td> 89</td><td>1</td><td>1.3512012</td><td>0.2123455</td><td>390.7768</td><td>19.00155</td><td>1030.739</td><td>47.55037</td><td>2.35900</td><td>48.86800</td></tr>\n",
       "\t<tr><td>1</td><td>290.1016</td><td>Private room   </td><td>False</td><td>True </td><td>2</td><td>True </td><td>0</td><td>0</td><td>10</td><td> 97</td><td>1</td><td>0.6998212</td><td>0.1937103</td><td>518.4783</td><td>25.21104</td><td>1218.659</td><td>56.21958</td><td>2.35385</td><td>48.86282</td></tr>\n",
       "\t<tr><td>2</td><td>445.7545</td><td>Entire home/apt</td><td>False</td><td>False</td><td>4</td><td>False</td><td>0</td><td>1</td><td>10</td><td>100</td><td>1</td><td>0.9689817</td><td>0.2943429</td><td>432.6899</td><td>21.03958</td><td>1069.895</td><td>49.35674</td><td>2.36023</td><td>48.86375</td></tr>\n",
       "\t<tr><td>⋮</td><td>⋮</td><td>⋮</td><td>⋮</td><td>⋮</td><td>⋮</td><td>⋮</td><td>⋮</td><td>⋮</td><td>⋮</td><td>⋮</td><td>⋮</td><td>⋮</td><td>⋮</td><td>⋮</td><td>⋮</td><td>⋮</td><td>⋮</td><td>⋮</td><td>⋮</td></tr>\n",
       "\t<tr><td>3555</td><td>223.9258</td><td>Entire home/apt</td><td>False</td><td>False</td><td>2</td><td>False</td><td>1</td><td>0</td><td> 9</td><td>89</td><td>1</td><td>4.205205</td><td>0.2530289</td><td>172.6589</td><td> 8.395552</td><td>406.5859</td><td>18.75676</td><td>2.40100</td><td>48.87700</td></tr>\n",
       "\t<tr><td>3556</td><td>200.8575</td><td>Entire home/apt</td><td>False</td><td>False</td><td>2</td><td>True </td><td>0</td><td>0</td><td> 9</td><td>93</td><td>1</td><td>2.891214</td><td>0.2406744</td><td>235.1679</td><td>11.435057</td><td>602.4517</td><td>27.79250</td><td>2.38200</td><td>48.87400</td></tr>\n",
       "\t<tr><td>3557</td><td>301.2862</td><td>Entire home/apt</td><td>False</td><td>False</td><td>2</td><td>False</td><td>0</td><td>0</td><td>10</td><td>92</td><td>1</td><td>3.469749</td><td>0.5085167</td><td>200.6376</td><td> 9.756019</td><td>478.9904</td><td>22.09694</td><td>2.39992</td><td>48.85886</td></tr>\n",
       "</tbody>\n",
       "</table>\n"
      ],
      "text/latex": [
       "A data.frame: 3558 × 20\n",
       "\\begin{tabular}{llllllllllllllllllll}\n",
       " X & realSum & room\\_type & room\\_shared & room\\_private & person\\_capacity & host\\_is\\_superhost & multi & biz & cleanliness\\_rating & guest\\_satisfaction\\_overall & bedrooms & dist & metro\\_dist & attr\\_index & attr\\_index\\_norm & rest\\_index & rest\\_index\\_norm & lng & lat\\\\\n",
       " <int> & <dbl> & <chr> & <chr> & <chr> & <dbl> & <chr> & <int> & <int> & <dbl> & <dbl> & <int> & <dbl> & <dbl> & <dbl> & <dbl> & <dbl> & <dbl> & <dbl> & <dbl>\\\\\n",
       "\\hline\n",
       "\t 0 & 536.3967 & Entire home/apt & False & False & 5 & False & 0 & 1 &  9 &  89 & 1 & 1.3512012 & 0.2123455 & 390.7768 & 19.00155 & 1030.739 & 47.55037 & 2.35900 & 48.86800\\\\\n",
       "\t 1 & 290.1016 & Private room    & False & True  & 2 & True  & 0 & 0 & 10 &  97 & 1 & 0.6998212 & 0.1937103 & 518.4783 & 25.21104 & 1218.659 & 56.21958 & 2.35385 & 48.86282\\\\\n",
       "\t 2 & 445.7545 & Entire home/apt & False & False & 4 & False & 0 & 1 & 10 & 100 & 1 & 0.9689817 & 0.2943429 & 432.6899 & 21.03958 & 1069.895 & 49.35674 & 2.36023 & 48.86375\\\\\n",
       "\t ⋮ & ⋮ & ⋮ & ⋮ & ⋮ & ⋮ & ⋮ & ⋮ & ⋮ & ⋮ & ⋮ & ⋮ & ⋮ & ⋮ & ⋮ & ⋮ & ⋮ & ⋮ & ⋮ & ⋮\\\\\n",
       "\t 3555 & 223.9258 & Entire home/apt & False & False & 2 & False & 1 & 0 &  9 & 89 & 1 & 4.205205 & 0.2530289 & 172.6589 &  8.395552 & 406.5859 & 18.75676 & 2.40100 & 48.87700\\\\\n",
       "\t 3556 & 200.8575 & Entire home/apt & False & False & 2 & True  & 0 & 0 &  9 & 93 & 1 & 2.891214 & 0.2406744 & 235.1679 & 11.435057 & 602.4517 & 27.79250 & 2.38200 & 48.87400\\\\\n",
       "\t 3557 & 301.2862 & Entire home/apt & False & False & 2 & False & 0 & 0 & 10 & 92 & 1 & 3.469749 & 0.5085167 & 200.6376 &  9.756019 & 478.9904 & 22.09694 & 2.39992 & 48.85886\\\\\n",
       "\\end{tabular}\n"
      ],
      "text/markdown": [
       "\n",
       "A data.frame: 3558 × 20\n",
       "\n",
       "| X &lt;int&gt; | realSum &lt;dbl&gt; | room_type &lt;chr&gt; | room_shared &lt;chr&gt; | room_private &lt;chr&gt; | person_capacity &lt;dbl&gt; | host_is_superhost &lt;chr&gt; | multi &lt;int&gt; | biz &lt;int&gt; | cleanliness_rating &lt;dbl&gt; | guest_satisfaction_overall &lt;dbl&gt; | bedrooms &lt;int&gt; | dist &lt;dbl&gt; | metro_dist &lt;dbl&gt; | attr_index &lt;dbl&gt; | attr_index_norm &lt;dbl&gt; | rest_index &lt;dbl&gt; | rest_index_norm &lt;dbl&gt; | lng &lt;dbl&gt; | lat &lt;dbl&gt; |\n",
       "|---|---|---|---|---|---|---|---|---|---|---|---|---|---|---|---|---|---|---|---|\n",
       "| 0 | 536.3967 | Entire home/apt | False | False | 5 | False | 0 | 1 |  9 |  89 | 1 | 1.3512012 | 0.2123455 | 390.7768 | 19.00155 | 1030.739 | 47.55037 | 2.35900 | 48.86800 |\n",
       "| 1 | 290.1016 | Private room    | False | True  | 2 | True  | 0 | 0 | 10 |  97 | 1 | 0.6998212 | 0.1937103 | 518.4783 | 25.21104 | 1218.659 | 56.21958 | 2.35385 | 48.86282 |\n",
       "| 2 | 445.7545 | Entire home/apt | False | False | 4 | False | 0 | 1 | 10 | 100 | 1 | 0.9689817 | 0.2943429 | 432.6899 | 21.03958 | 1069.895 | 49.35674 | 2.36023 | 48.86375 |\n",
       "| ⋮ | ⋮ | ⋮ | ⋮ | ⋮ | ⋮ | ⋮ | ⋮ | ⋮ | ⋮ | ⋮ | ⋮ | ⋮ | ⋮ | ⋮ | ⋮ | ⋮ | ⋮ | ⋮ | ⋮ |\n",
       "| 3555 | 223.9258 | Entire home/apt | False | False | 2 | False | 1 | 0 |  9 | 89 | 1 | 4.205205 | 0.2530289 | 172.6589 |  8.395552 | 406.5859 | 18.75676 | 2.40100 | 48.87700 |\n",
       "| 3556 | 200.8575 | Entire home/apt | False | False | 2 | True  | 0 | 0 |  9 | 93 | 1 | 2.891214 | 0.2406744 | 235.1679 | 11.435057 | 602.4517 | 27.79250 | 2.38200 | 48.87400 |\n",
       "| 3557 | 301.2862 | Entire home/apt | False | False | 2 | False | 0 | 0 | 10 | 92 | 1 | 3.469749 | 0.5085167 | 200.6376 |  9.756019 | 478.9904 | 22.09694 | 2.39992 | 48.85886 |\n",
       "\n"
      ],
      "text/plain": [
       "     X    realSum  room_type       room_shared room_private person_capacity\n",
       "1    0    536.3967 Entire home/apt False       False        5              \n",
       "2    1    290.1016 Private room    False       True         2              \n",
       "3    2    445.7545 Entire home/apt False       False        4              \n",
       "⋮    ⋮    ⋮        ⋮               ⋮           ⋮            ⋮              \n",
       "3556 3555 223.9258 Entire home/apt False       False        2              \n",
       "3557 3556 200.8575 Entire home/apt False       False        2              \n",
       "3558 3557 301.2862 Entire home/apt False       False        2              \n",
       "     host_is_superhost multi biz cleanliness_rating guest_satisfaction_overall\n",
       "1    False             0     1    9                  89                       \n",
       "2    True              0     0   10                  97                       \n",
       "3    False             0     1   10                 100                       \n",
       "⋮    ⋮                 ⋮     ⋮   ⋮                  ⋮                         \n",
       "3556 False             1     0    9                 89                        \n",
       "3557 True              0     0    9                 93                        \n",
       "3558 False             0     0   10                 92                        \n",
       "     bedrooms dist      metro_dist attr_index attr_index_norm rest_index\n",
       "1    1        1.3512012 0.2123455  390.7768   19.00155        1030.739  \n",
       "2    1        0.6998212 0.1937103  518.4783   25.21104        1218.659  \n",
       "3    1        0.9689817 0.2943429  432.6899   21.03958        1069.895  \n",
       "⋮    ⋮        ⋮         ⋮          ⋮          ⋮               ⋮         \n",
       "3556 1        4.205205  0.2530289  172.6589    8.395552       406.5859  \n",
       "3557 1        2.891214  0.2406744  235.1679   11.435057       602.4517  \n",
       "3558 1        3.469749  0.5085167  200.6376    9.756019       478.9904  \n",
       "     rest_index_norm lng     lat     \n",
       "1    47.55037        2.35900 48.86800\n",
       "2    56.21958        2.35385 48.86282\n",
       "3    49.35674        2.36023 48.86375\n",
       "⋮    ⋮               ⋮       ⋮       \n",
       "3556 18.75676        2.40100 48.87700\n",
       "3557 27.79250        2.38200 48.87400\n",
       "3558 22.09694        2.39992 48.85886"
      ]
     },
     "metadata": {},
     "output_type": "display_data"
    }
   ],
   "source": [
    "# Source: https://www.kaggle.com/datasets/thedevastator/airbnb-prices-in-european-cities?select=paris_weekends.csv\n",
    "\n",
    "# This code reads the \"paris_weekends.csv\" file from our GitHub repository and stores it in a data frame called \"paris_data_weekends\".\n",
    "paris_data_url <- \"https://raw.githubusercontent.com/kairavv/dsci-100-2022w2-group-17/728ea69b13f24e3d7056c5b072d33309ea0a85de/data/paris_weekends.csv\"\n",
    "paris_data <- read.csv(paris_data_url)\n",
    "\n",
    "# It then displays the data\n",
    "paris_data \n",
    "\n",
    "# <<does 3557 seem too low? should we add weekdays too?>>"
   ]
  },
  {
   "cell_type": "markdown",
   "id": "0a36e92e-2e0b-44ad-b003-de02312a5cc6",
   "metadata": {
    "tags": []
   },
   "source": [
    "#### Cleaning and Wrangling\n",
    "After the data is read, the variable are filtered as per our requirements\n",
    "\n",
    "Additionally, the quality variable is converted to a factor type, as it is a discrete variable."
   ]
  },
  {
   "cell_type": "code",
   "execution_count": 59,
   "id": "6f7442d9-bf73-46b7-863e-20fc4945f53c",
   "metadata": {},
   "outputs": [
    {
     "data": {
      "text/html": [
       "<table class=\"dataframe\">\n",
       "<caption>A data.frame: 3558 × 17</caption>\n",
       "<thead>\n",
       "\t<tr><th scope=col>realSum</th><th scope=col>room_type</th><th scope=col>room_shared</th><th scope=col>room_private</th><th scope=col>person_capacity</th><th scope=col>host_is_superhost</th><th scope=col>multi</th><th scope=col>biz</th><th scope=col>cleanliness_rating</th><th scope=col>guest_satisfaction_overall</th><th scope=col>bedrooms</th><th scope=col>dist</th><th scope=col>metro_dist</th><th scope=col>attr_index</th><th scope=col>attr_index_norm</th><th scope=col>rest_index</th><th scope=col>rest_index_norm</th></tr>\n",
       "\t<tr><th scope=col>&lt;dbl&gt;</th><th scope=col>&lt;chr&gt;</th><th scope=col>&lt;chr&gt;</th><th scope=col>&lt;chr&gt;</th><th scope=col>&lt;dbl&gt;</th><th scope=col>&lt;chr&gt;</th><th scope=col>&lt;int&gt;</th><th scope=col>&lt;int&gt;</th><th scope=col>&lt;dbl&gt;</th><th scope=col>&lt;dbl&gt;</th><th scope=col>&lt;int&gt;</th><th scope=col>&lt;dbl&gt;</th><th scope=col>&lt;dbl&gt;</th><th scope=col>&lt;dbl&gt;</th><th scope=col>&lt;dbl&gt;</th><th scope=col>&lt;dbl&gt;</th><th scope=col>&lt;dbl&gt;</th></tr>\n",
       "</thead>\n",
       "<tbody>\n",
       "\t<tr><td>536.3967</td><td>Entire home/apt</td><td>False</td><td>False</td><td>5</td><td>False</td><td>0</td><td>1</td><td> 9</td><td> 89</td><td>1</td><td>1.3512012</td><td>0.2123455</td><td>390.7768</td><td>19.00155</td><td>1030.739</td><td>47.55037</td></tr>\n",
       "\t<tr><td>290.1016</td><td>Private room   </td><td>False</td><td>True </td><td>2</td><td>True </td><td>0</td><td>0</td><td>10</td><td> 97</td><td>1</td><td>0.6998212</td><td>0.1937103</td><td>518.4783</td><td>25.21104</td><td>1218.659</td><td>56.21958</td></tr>\n",
       "\t<tr><td>445.7545</td><td>Entire home/apt</td><td>False</td><td>False</td><td>4</td><td>False</td><td>0</td><td>1</td><td>10</td><td>100</td><td>1</td><td>0.9689817</td><td>0.2943429</td><td>432.6899</td><td>21.03958</td><td>1069.895</td><td>49.35674</td></tr>\n",
       "\t<tr><td>⋮</td><td>⋮</td><td>⋮</td><td>⋮</td><td>⋮</td><td>⋮</td><td>⋮</td><td>⋮</td><td>⋮</td><td>⋮</td><td>⋮</td><td>⋮</td><td>⋮</td><td>⋮</td><td>⋮</td><td>⋮</td><td>⋮</td></tr>\n",
       "\t<tr><td>223.9258</td><td>Entire home/apt</td><td>False</td><td>False</td><td>2</td><td>False</td><td>1</td><td>0</td><td> 9</td><td>89</td><td>1</td><td>4.205205</td><td>0.2530289</td><td>172.6589</td><td> 8.395552</td><td>406.5859</td><td>18.75676</td></tr>\n",
       "\t<tr><td>200.8575</td><td>Entire home/apt</td><td>False</td><td>False</td><td>2</td><td>True </td><td>0</td><td>0</td><td> 9</td><td>93</td><td>1</td><td>2.891214</td><td>0.2406744</td><td>235.1679</td><td>11.435057</td><td>602.4517</td><td>27.79250</td></tr>\n",
       "\t<tr><td>301.2862</td><td>Entire home/apt</td><td>False</td><td>False</td><td>2</td><td>False</td><td>0</td><td>0</td><td>10</td><td>92</td><td>1</td><td>3.469749</td><td>0.5085167</td><td>200.6376</td><td> 9.756019</td><td>478.9904</td><td>22.09694</td></tr>\n",
       "</tbody>\n",
       "</table>\n"
      ],
      "text/latex": [
       "A data.frame: 3558 × 17\n",
       "\\begin{tabular}{lllllllllllllllll}\n",
       " realSum & room\\_type & room\\_shared & room\\_private & person\\_capacity & host\\_is\\_superhost & multi & biz & cleanliness\\_rating & guest\\_satisfaction\\_overall & bedrooms & dist & metro\\_dist & attr\\_index & attr\\_index\\_norm & rest\\_index & rest\\_index\\_norm\\\\\n",
       " <dbl> & <chr> & <chr> & <chr> & <dbl> & <chr> & <int> & <int> & <dbl> & <dbl> & <int> & <dbl> & <dbl> & <dbl> & <dbl> & <dbl> & <dbl>\\\\\n",
       "\\hline\n",
       "\t 536.3967 & Entire home/apt & False & False & 5 & False & 0 & 1 &  9 &  89 & 1 & 1.3512012 & 0.2123455 & 390.7768 & 19.00155 & 1030.739 & 47.55037\\\\\n",
       "\t 290.1016 & Private room    & False & True  & 2 & True  & 0 & 0 & 10 &  97 & 1 & 0.6998212 & 0.1937103 & 518.4783 & 25.21104 & 1218.659 & 56.21958\\\\\n",
       "\t 445.7545 & Entire home/apt & False & False & 4 & False & 0 & 1 & 10 & 100 & 1 & 0.9689817 & 0.2943429 & 432.6899 & 21.03958 & 1069.895 & 49.35674\\\\\n",
       "\t ⋮ & ⋮ & ⋮ & ⋮ & ⋮ & ⋮ & ⋮ & ⋮ & ⋮ & ⋮ & ⋮ & ⋮ & ⋮ & ⋮ & ⋮ & ⋮ & ⋮\\\\\n",
       "\t 223.9258 & Entire home/apt & False & False & 2 & False & 1 & 0 &  9 & 89 & 1 & 4.205205 & 0.2530289 & 172.6589 &  8.395552 & 406.5859 & 18.75676\\\\\n",
       "\t 200.8575 & Entire home/apt & False & False & 2 & True  & 0 & 0 &  9 & 93 & 1 & 2.891214 & 0.2406744 & 235.1679 & 11.435057 & 602.4517 & 27.79250\\\\\n",
       "\t 301.2862 & Entire home/apt & False & False & 2 & False & 0 & 0 & 10 & 92 & 1 & 3.469749 & 0.5085167 & 200.6376 &  9.756019 & 478.9904 & 22.09694\\\\\n",
       "\\end{tabular}\n"
      ],
      "text/markdown": [
       "\n",
       "A data.frame: 3558 × 17\n",
       "\n",
       "| realSum &lt;dbl&gt; | room_type &lt;chr&gt; | room_shared &lt;chr&gt; | room_private &lt;chr&gt; | person_capacity &lt;dbl&gt; | host_is_superhost &lt;chr&gt; | multi &lt;int&gt; | biz &lt;int&gt; | cleanliness_rating &lt;dbl&gt; | guest_satisfaction_overall &lt;dbl&gt; | bedrooms &lt;int&gt; | dist &lt;dbl&gt; | metro_dist &lt;dbl&gt; | attr_index &lt;dbl&gt; | attr_index_norm &lt;dbl&gt; | rest_index &lt;dbl&gt; | rest_index_norm &lt;dbl&gt; |\n",
       "|---|---|---|---|---|---|---|---|---|---|---|---|---|---|---|---|---|\n",
       "| 536.3967 | Entire home/apt | False | False | 5 | False | 0 | 1 |  9 |  89 | 1 | 1.3512012 | 0.2123455 | 390.7768 | 19.00155 | 1030.739 | 47.55037 |\n",
       "| 290.1016 | Private room    | False | True  | 2 | True  | 0 | 0 | 10 |  97 | 1 | 0.6998212 | 0.1937103 | 518.4783 | 25.21104 | 1218.659 | 56.21958 |\n",
       "| 445.7545 | Entire home/apt | False | False | 4 | False | 0 | 1 | 10 | 100 | 1 | 0.9689817 | 0.2943429 | 432.6899 | 21.03958 | 1069.895 | 49.35674 |\n",
       "| ⋮ | ⋮ | ⋮ | ⋮ | ⋮ | ⋮ | ⋮ | ⋮ | ⋮ | ⋮ | ⋮ | ⋮ | ⋮ | ⋮ | ⋮ | ⋮ | ⋮ |\n",
       "| 223.9258 | Entire home/apt | False | False | 2 | False | 1 | 0 |  9 | 89 | 1 | 4.205205 | 0.2530289 | 172.6589 |  8.395552 | 406.5859 | 18.75676 |\n",
       "| 200.8575 | Entire home/apt | False | False | 2 | True  | 0 | 0 |  9 | 93 | 1 | 2.891214 | 0.2406744 | 235.1679 | 11.435057 | 602.4517 | 27.79250 |\n",
       "| 301.2862 | Entire home/apt | False | False | 2 | False | 0 | 0 | 10 | 92 | 1 | 3.469749 | 0.5085167 | 200.6376 |  9.756019 | 478.9904 | 22.09694 |\n",
       "\n"
      ],
      "text/plain": [
       "     realSum  room_type       room_shared room_private person_capacity\n",
       "1    536.3967 Entire home/apt False       False        5              \n",
       "2    290.1016 Private room    False       True         2              \n",
       "3    445.7545 Entire home/apt False       False        4              \n",
       "⋮    ⋮        ⋮               ⋮           ⋮            ⋮              \n",
       "3556 223.9258 Entire home/apt False       False        2              \n",
       "3557 200.8575 Entire home/apt False       False        2              \n",
       "3558 301.2862 Entire home/apt False       False        2              \n",
       "     host_is_superhost multi biz cleanliness_rating guest_satisfaction_overall\n",
       "1    False             0     1    9                  89                       \n",
       "2    True              0     0   10                  97                       \n",
       "3    False             0     1   10                 100                       \n",
       "⋮    ⋮                 ⋮     ⋮   ⋮                  ⋮                         \n",
       "3556 False             1     0    9                 89                        \n",
       "3557 True              0     0    9                 93                        \n",
       "3558 False             0     0   10                 92                        \n",
       "     bedrooms dist      metro_dist attr_index attr_index_norm rest_index\n",
       "1    1        1.3512012 0.2123455  390.7768   19.00155        1030.739  \n",
       "2    1        0.6998212 0.1937103  518.4783   25.21104        1218.659  \n",
       "3    1        0.9689817 0.2943429  432.6899   21.03958        1069.895  \n",
       "⋮    ⋮        ⋮         ⋮          ⋮          ⋮               ⋮         \n",
       "3556 1        4.205205  0.2530289  172.6589    8.395552       406.5859  \n",
       "3557 1        2.891214  0.2406744  235.1679   11.435057       602.4517  \n",
       "3558 1        3.469749  0.5085167  200.6376    9.756019       478.9904  \n",
       "     rest_index_norm\n",
       "1    47.55037       \n",
       "2    56.21958       \n",
       "3    49.35674       \n",
       "⋮    ⋮              \n",
       "3556 18.75676       \n",
       "3557 27.79250       \n",
       "3558 22.09694       "
      ]
     },
     "metadata": {},
     "output_type": "display_data"
    }
   ],
   "source": [
    "#Cleaning the data, removing irrelevant or unnecessary variables to ensure that the data is in a consistent format.\n",
    "\n",
    "#Variables filtered out: X (unique identifier), lng (The longitude of the listing), lat (The latitude of the listing).\n",
    "\n",
    "#Variables to be utilized:\n",
    "new_paris_data <- paris_data |>\n",
    "  select(realSum,                     \n",
    "         room_type, \n",
    "         room_shared,\n",
    "         room_private,\n",
    "         person_capacity,\n",
    "         host_is_superhost,\n",
    "         multi,biz,cleanliness_rating,\n",
    "         guest_satisfaction_overall,\n",
    "         bedrooms,\n",
    "         dist,\n",
    "         metro_dist,\n",
    "         attr_index,\n",
    "         attr_index_norm,\n",
    "         rest_index,\n",
    "         rest_index_norm)\n",
    "\n",
    "# Displaying the cleaned data\n",
    "new_paris_data \n",
    "\n",
    "#<<do we need to convert any variables into a factor type?>>\n",
    "#<<it might be easier to visualize the data if we also filtered out the non-numeric data like room_type, superhost status, and those two boolean columns.>>\n",
    "#<<We could compare realSum with other numeric variables?>>"
   ]
  },
  {
   "cell_type": "markdown",
   "id": "971f2f20-eb3d-4d9e-85a1-40e0e48387a7",
   "metadata": {
    "tags": []
   },
   "source": [
    "#### Splitting\n",
    "Splitting the data involves some form of randomness, thus a seed is set for consistency.\n",
    "\n",
    "The data is split with `SPLIT_PROPORTION` and strata `realSum`."
   ]
  },
  {
   "cell_type": "code",
   "execution_count": 57,
   "id": "746c8556-3558-453f-a242-b27d70feecbc",
   "metadata": {
    "tags": []
   },
   "outputs": [
    {
     "data": {
      "text/html": [
       "<span style=white-space:pre-wrap>'Number of observations in training data subset:  2667'</span>"
      ],
      "text/latex": [
       "'Number of observations in training data subset:  2667'"
      ],
      "text/markdown": [
       "<span style=white-space:pre-wrap>'Number of observations in training data subset:  2667'</span>"
      ],
      "text/plain": [
       "[1] \"Number of observations in training data subset:  2667\""
      ]
     },
     "metadata": {},
     "output_type": "display_data"
    },
    {
     "data": {
      "text/html": [
       "<span style=white-space:pre-wrap>'Number of observations in testing data subset:  891'</span>"
      ],
      "text/latex": [
       "'Number of observations in testing data subset:  891'"
      ],
      "text/markdown": [
       "<span style=white-space:pre-wrap>'Number of observations in testing data subset:  891'</span>"
      ],
      "text/plain": [
       "[1] \"Number of observations in testing data subset:  891\""
      ]
     },
     "metadata": {},
     "output_type": "display_data"
    }
   ],
   "source": [
    "# 3557 total examples\n",
    "# Decide to split dataset into 75% training and 25% testing\n",
    "\n",
    "# set seed for consistency\n",
    "set.seed(8888)\n",
    "\n",
    "# splitting data set into training and testing subsets\n",
    "SPLIT_PROPORTION = 0.75\n",
    "paris_split <- initial_split(new_paris_data, prop = 0.75, strata = realSum) \n",
    "\n",
    "paris_train <- training(paris_split)\n",
    "paris_test <- testing(paris_split)\n",
    "\n",
    "#Table and Counts\n",
    "# count the number of observations in each subset\n",
    "paste(\"Number of observations in training data subset: \", pull(count(paris_train)))\n",
    "paste(\"Number of observations in testing data subset: \", pull(count(paris_test)))\n",
    "\n",
    "#<<any other way to split it? 1:3 -> no. of training & testing subest isn't precise>>"
   ]
  },
  {
   "cell_type": "markdown",
   "id": "a1fbbe72-8e2f-43bd-bc63-13d3d95848df",
   "metadata": {},
   "source": []
  },
  {
   "cell_type": "code",
   "execution_count": 58,
   "id": "3abe0519-e64d-45d9-a06b-9d514e8110dd",
   "metadata": {},
   "outputs": [
    {
     "data": {
      "text/html": [
       "<table class=\"dataframe\">\n",
       "<caption>A tibble: 8 × 2</caption>\n",
       "<thead>\n",
       "\t<tr><th scope=col>cleanliness_rating</th><th scope=col>n</th></tr>\n",
       "\t<tr><th scope=col>&lt;dbl&gt;</th><th scope=col>&lt;int&gt;</th></tr>\n",
       "</thead>\n",
       "<tbody>\n",
       "\t<tr><td>2</td><td>3</td></tr>\n",
       "\t<tr><td>4</td><td>7</td></tr>\n",
       "\t<tr><td>5</td><td>2</td></tr>\n",
       "\t<tr><td>⋮</td><td>⋮</td></tr>\n",
       "\t<tr><td> 8</td><td> 272</td></tr>\n",
       "\t<tr><td> 9</td><td> 947</td></tr>\n",
       "\t<tr><td>10</td><td>1334</td></tr>\n",
       "</tbody>\n",
       "</table>\n"
      ],
      "text/latex": [
       "A tibble: 8 × 2\n",
       "\\begin{tabular}{ll}\n",
       " cleanliness\\_rating & n\\\\\n",
       " <dbl> & <int>\\\\\n",
       "\\hline\n",
       "\t 2 & 3\\\\\n",
       "\t 4 & 7\\\\\n",
       "\t 5 & 2\\\\\n",
       "\t ⋮ & ⋮\\\\\n",
       "\t  8 &  272\\\\\n",
       "\t  9 &  947\\\\\n",
       "\t 10 & 1334\\\\\n",
       "\\end{tabular}\n"
      ],
      "text/markdown": [
       "\n",
       "A tibble: 8 × 2\n",
       "\n",
       "| cleanliness_rating &lt;dbl&gt; | n &lt;int&gt; |\n",
       "|---|---|\n",
       "| 2 | 3 |\n",
       "| 4 | 7 |\n",
       "| 5 | 2 |\n",
       "| ⋮ | ⋮ |\n",
       "|  8 |  272 |\n",
       "|  9 |  947 |\n",
       "| 10 | 1334 |\n",
       "\n"
      ],
      "text/plain": [
       "  cleanliness_rating n   \n",
       "1 2                  3   \n",
       "2 4                  7   \n",
       "3 5                  2   \n",
       "⋮ ⋮                  ⋮   \n",
       "6  8                  272\n",
       "7  9                  947\n",
       "8 10                 1334"
      ]
     },
     "metadata": {},
     "output_type": "display_data"
    },
    {
     "data": {
      "text/html": [
       "<table class=\"dataframe\">\n",
       "<caption>A tibble: 42 × 2</caption>\n",
       "<thead>\n",
       "\t<tr><th scope=col>guest_satisfaction_overall</th><th scope=col>n</th></tr>\n",
       "\t<tr><th scope=col>&lt;dbl&gt;</th><th scope=col>&lt;int&gt;</th></tr>\n",
       "</thead>\n",
       "<tbody>\n",
       "\t<tr><td>20</td><td>4</td></tr>\n",
       "\t<tr><td>40</td><td>5</td></tr>\n",
       "\t<tr><td>50</td><td>4</td></tr>\n",
       "\t<tr><td>⋮</td><td>⋮</td></tr>\n",
       "\t<tr><td> 98</td><td>138</td></tr>\n",
       "\t<tr><td> 99</td><td> 70</td></tr>\n",
       "\t<tr><td>100</td><td>584</td></tr>\n",
       "</tbody>\n",
       "</table>\n"
      ],
      "text/latex": [
       "A tibble: 42 × 2\n",
       "\\begin{tabular}{ll}\n",
       " guest\\_satisfaction\\_overall & n\\\\\n",
       " <dbl> & <int>\\\\\n",
       "\\hline\n",
       "\t 20 & 4\\\\\n",
       "\t 40 & 5\\\\\n",
       "\t 50 & 4\\\\\n",
       "\t ⋮ & ⋮\\\\\n",
       "\t  98 & 138\\\\\n",
       "\t  99 &  70\\\\\n",
       "\t 100 & 584\\\\\n",
       "\\end{tabular}\n"
      ],
      "text/markdown": [
       "\n",
       "A tibble: 42 × 2\n",
       "\n",
       "| guest_satisfaction_overall &lt;dbl&gt; | n &lt;int&gt; |\n",
       "|---|---|\n",
       "| 20 | 4 |\n",
       "| 40 | 5 |\n",
       "| 50 | 4 |\n",
       "| ⋮ | ⋮ |\n",
       "|  98 | 138 |\n",
       "|  99 |  70 |\n",
       "| 100 | 584 |\n",
       "\n"
      ],
      "text/plain": [
       "   guest_satisfaction_overall n  \n",
       "1  20                         4  \n",
       "2  40                         5  \n",
       "3  50                         4  \n",
       "⋮  ⋮                          ⋮  \n",
       "40  98                        138\n",
       "41  99                         70\n",
       "42 100                        584"
      ]
     },
     "metadata": {},
     "output_type": "display_data"
    },
    {
     "data": {
      "text/html": [
       "<table class=\"dataframe\">\n",
       "<caption>A tibble: 2667 × 2</caption>\n",
       "<thead>\n",
       "\t<tr><th scope=col>dist</th><th scope=col>n</th></tr>\n",
       "\t<tr><th scope=col>&lt;dbl&gt;</th><th scope=col>&lt;int&gt;</th></tr>\n",
       "</thead>\n",
       "<tbody>\n",
       "\t<tr><td>0.1395432</td><td>1</td></tr>\n",
       "\t<tr><td>0.1470952</td><td>1</td></tr>\n",
       "\t<tr><td>0.1714837</td><td>1</td></tr>\n",
       "\t<tr><td>⋮</td><td>⋮</td></tr>\n",
       "\t<tr><td>7.620912</td><td>1</td></tr>\n",
       "\t<tr><td>7.680000</td><td>1</td></tr>\n",
       "\t<tr><td>7.703733</td><td>1</td></tr>\n",
       "</tbody>\n",
       "</table>\n"
      ],
      "text/latex": [
       "A tibble: 2667 × 2\n",
       "\\begin{tabular}{ll}\n",
       " dist & n\\\\\n",
       " <dbl> & <int>\\\\\n",
       "\\hline\n",
       "\t 0.1395432 & 1\\\\\n",
       "\t 0.1470952 & 1\\\\\n",
       "\t 0.1714837 & 1\\\\\n",
       "\t ⋮ & ⋮\\\\\n",
       "\t 7.620912 & 1\\\\\n",
       "\t 7.680000 & 1\\\\\n",
       "\t 7.703733 & 1\\\\\n",
       "\\end{tabular}\n"
      ],
      "text/markdown": [
       "\n",
       "A tibble: 2667 × 2\n",
       "\n",
       "| dist &lt;dbl&gt; | n &lt;int&gt; |\n",
       "|---|---|\n",
       "| 0.1395432 | 1 |\n",
       "| 0.1470952 | 1 |\n",
       "| 0.1714837 | 1 |\n",
       "| ⋮ | ⋮ |\n",
       "| 7.620912 | 1 |\n",
       "| 7.680000 | 1 |\n",
       "| 7.703733 | 1 |\n",
       "\n"
      ],
      "text/plain": [
       "     dist      n\n",
       "1    0.1395432 1\n",
       "2    0.1470952 1\n",
       "3    0.1714837 1\n",
       "⋮    ⋮         ⋮\n",
       "2665 7.620912  1\n",
       "2666 7.680000  1\n",
       "2667 7.703733  1"
      ]
     },
     "metadata": {},
     "output_type": "display_data"
    },
    {
     "data": {
      "text/html": [
       "<table class=\"dataframe\">\n",
       "<caption>A tibble: 2667 × 2</caption>\n",
       "<thead>\n",
       "\t<tr><th scope=col>metro_dist</th><th scope=col>n</th></tr>\n",
       "\t<tr><th scope=col>&lt;dbl&gt;</th><th scope=col>&lt;int&gt;</th></tr>\n",
       "</thead>\n",
       "<tbody>\n",
       "\t<tr><td>0.003220008</td><td>1</td></tr>\n",
       "\t<tr><td>0.003935058</td><td>1</td></tr>\n",
       "\t<tr><td>0.006388847</td><td>1</td></tr>\n",
       "\t<tr><td>⋮</td><td>⋮</td></tr>\n",
       "\t<tr><td>0.9102045</td><td>1</td></tr>\n",
       "\t<tr><td>0.9689053</td><td>1</td></tr>\n",
       "\t<tr><td>1.0458365</td><td>1</td></tr>\n",
       "</tbody>\n",
       "</table>\n"
      ],
      "text/latex": [
       "A tibble: 2667 × 2\n",
       "\\begin{tabular}{ll}\n",
       " metro\\_dist & n\\\\\n",
       " <dbl> & <int>\\\\\n",
       "\\hline\n",
       "\t 0.003220008 & 1\\\\\n",
       "\t 0.003935058 & 1\\\\\n",
       "\t 0.006388847 & 1\\\\\n",
       "\t ⋮ & ⋮\\\\\n",
       "\t 0.9102045 & 1\\\\\n",
       "\t 0.9689053 & 1\\\\\n",
       "\t 1.0458365 & 1\\\\\n",
       "\\end{tabular}\n"
      ],
      "text/markdown": [
       "\n",
       "A tibble: 2667 × 2\n",
       "\n",
       "| metro_dist &lt;dbl&gt; | n &lt;int&gt; |\n",
       "|---|---|\n",
       "| 0.003220008 | 1 |\n",
       "| 0.003935058 | 1 |\n",
       "| 0.006388847 | 1 |\n",
       "| ⋮ | ⋮ |\n",
       "| 0.9102045 | 1 |\n",
       "| 0.9689053 | 1 |\n",
       "| 1.0458365 | 1 |\n",
       "\n"
      ],
      "text/plain": [
       "     metro_dist  n\n",
       "1    0.003220008 1\n",
       "2    0.003935058 1\n",
       "3    0.006388847 1\n",
       "⋮    ⋮           ⋮\n",
       "2665 0.9102045   1\n",
       "2666 0.9689053   1\n",
       "2667 1.0458365   1"
      ]
     },
     "metadata": {},
     "output_type": "display_data"
    },
    {
     "data": {
      "text/html": [
       "<table class=\"dataframe\">\n",
       "<caption>A tibble: 3 × 2</caption>\n",
       "<thead>\n",
       "\t<tr><th scope=col>room_type</th><th scope=col>n</th></tr>\n",
       "\t<tr><th scope=col>&lt;chr&gt;</th><th scope=col>&lt;int&gt;</th></tr>\n",
       "</thead>\n",
       "<tbody>\n",
       "\t<tr><td>Entire home/apt</td><td>2065</td></tr>\n",
       "\t<tr><td>Private room   </td><td> 568</td></tr>\n",
       "\t<tr><td>Shared room    </td><td>  34</td></tr>\n",
       "</tbody>\n",
       "</table>\n"
      ],
      "text/latex": [
       "A tibble: 3 × 2\n",
       "\\begin{tabular}{ll}\n",
       " room\\_type & n\\\\\n",
       " <chr> & <int>\\\\\n",
       "\\hline\n",
       "\t Entire home/apt & 2065\\\\\n",
       "\t Private room    &  568\\\\\n",
       "\t Shared room     &   34\\\\\n",
       "\\end{tabular}\n"
      ],
      "text/markdown": [
       "\n",
       "A tibble: 3 × 2\n",
       "\n",
       "| room_type &lt;chr&gt; | n &lt;int&gt; |\n",
       "|---|---|\n",
       "| Entire home/apt | 2065 |\n",
       "| Private room    |  568 |\n",
       "| Shared room     |   34 |\n",
       "\n"
      ],
      "text/plain": [
       "  room_type       n   \n",
       "1 Entire home/apt 2065\n",
       "2 Private room     568\n",
       "3 Shared room       34"
      ]
     },
     "metadata": {},
     "output_type": "display_data"
    },
    {
     "data": {
      "text/html": [
       "<table class=\"dataframe\">\n",
       "<caption>A tibble: 2 × 2</caption>\n",
       "<thead>\n",
       "\t<tr><th scope=col>host_is_superhost</th><th scope=col>n</th></tr>\n",
       "\t<tr><th scope=col>&lt;chr&gt;</th><th scope=col>&lt;int&gt;</th></tr>\n",
       "</thead>\n",
       "<tbody>\n",
       "\t<tr><td>False</td><td>2290</td></tr>\n",
       "\t<tr><td>True </td><td> 377</td></tr>\n",
       "</tbody>\n",
       "</table>\n"
      ],
      "text/latex": [
       "A tibble: 2 × 2\n",
       "\\begin{tabular}{ll}\n",
       " host\\_is\\_superhost & n\\\\\n",
       " <chr> & <int>\\\\\n",
       "\\hline\n",
       "\t False & 2290\\\\\n",
       "\t True  &  377\\\\\n",
       "\\end{tabular}\n"
      ],
      "text/markdown": [
       "\n",
       "A tibble: 2 × 2\n",
       "\n",
       "| host_is_superhost &lt;chr&gt; | n &lt;int&gt; |\n",
       "|---|---|\n",
       "| False | 2290 |\n",
       "| True  |  377 |\n",
       "\n"
      ],
      "text/plain": [
       "  host_is_superhost n   \n",
       "1 False             2290\n",
       "2 True               377"
      ]
     },
     "metadata": {},
     "output_type": "display_data"
    }
   ],
   "source": [
    "#Table and Counts\n",
    "#Cleanliness_rating\n",
    "paris_proportions1 <- paris_train |> #use TRAINING data\n",
    "group_by(cleanliness_rating) |>\n",
    "summarize(n = n())  #used to count the number of observations in a given group\n",
    "paris_proportions1\n",
    "\n",
    "#guest_satisfaction_overall\n",
    "paris_proportions2 <- paris_train |>\n",
    "group_by(guest_satisfaction_overall) |>\n",
    "summarize(n = n())\n",
    "paris_proportions2\n",
    "\n",
    "#dist\n",
    "paris_proportions3 <- paris_train |>\n",
    "group_by(dist) |>\n",
    "summarize(n = n()) \n",
    "paris_proportions3\n",
    "\n",
    "#metro_dist\n",
    "paris_proportions4 <- paris_train |>\n",
    "group_by(metro_dist) |>\n",
    "summarize(n = n()) \n",
    "paris_proportions4\n",
    "\n",
    "#room_type\n",
    "paris_proportions5 <- paris_train |>\n",
    "group_by(room_type) |>\n",
    "summarize(n = n()) \n",
    "paris_proportions5\n",
    "\n",
    "#host_is_superhost\n",
    "paris_proportions6 <- paris_train |>\n",
    "group_by(host_is_superhost) |>\n",
    "summarize(n = n()) \n",
    "paris_proportions6\n"
   ]
  },
  {
   "cell_type": "code",
   "execution_count": 61,
   "id": "6a519633-caea-41df-a491-e31d7da56740",
   "metadata": {},
   "outputs": [
    {
     "data": {
      "text/html": [
       "<table class=\"dataframe\">\n",
       "<caption>A tibble: 1 × 4</caption>\n",
       "<thead>\n",
       "\t<tr><th scope=col>cleanliness_rating</th><th scope=col>guest_satisfaction_overall</th><th scope=col>dist</th><th scope=col>metro_dist</th></tr>\n",
       "\t<tr><th scope=col>&lt;dbl&gt;</th><th scope=col>&lt;dbl&gt;</th><th scope=col>&lt;dbl&gt;</th><th scope=col>&lt;dbl&gt;</th></tr>\n",
       "</thead>\n",
       "<tbody>\n",
       "\t<tr><td>10</td><td>100</td><td>7.703733</td><td>1.045836</td></tr>\n",
       "</tbody>\n",
       "</table>\n"
      ],
      "text/latex": [
       "A tibble: 1 × 4\n",
       "\\begin{tabular}{llll}\n",
       " cleanliness\\_rating & guest\\_satisfaction\\_overall & dist & metro\\_dist\\\\\n",
       " <dbl> & <dbl> & <dbl> & <dbl>\\\\\n",
       "\\hline\n",
       "\t 10 & 100 & 7.703733 & 1.045836\\\\\n",
       "\\end{tabular}\n"
      ],
      "text/markdown": [
       "\n",
       "A tibble: 1 × 4\n",
       "\n",
       "| cleanliness_rating &lt;dbl&gt; | guest_satisfaction_overall &lt;dbl&gt; | dist &lt;dbl&gt; | metro_dist &lt;dbl&gt; |\n",
       "|---|---|---|---|\n",
       "| 10 | 100 | 7.703733 | 1.045836 |\n",
       "\n"
      ],
      "text/plain": [
       "  cleanliness_rating guest_satisfaction_overall dist     metro_dist\n",
       "1 10                 100                        7.703733 1.045836  "
      ]
     },
     "metadata": {},
     "output_type": "display_data"
    }
   ],
   "source": [
    "#Mean \n",
    "mean1 <- paris_train |> #use TRAINING data \n",
    "    select(cleanliness_rating:metro_dist)|> \n",
    "    map_df(max, na.rm = TRUE)\n",
    "mean1"
   ]
  },
  {
   "cell_type": "markdown",
   "id": "68389741-c562-4f29-8c7f-d2c93d99d428",
   "metadata": {},
   "source": [
    "#### References:\n",
    "1. https://www.kaggle.com/datasets/thedevastator/airbnb-prices-in-european-cities?select=paris_weekends.csv \n",
    "2. https://www.sciencedirect.com/science/article/pii/S0261517718300785\n",
    "3. https://www.sciencedirect.com/science/article/pii/S1877916621000424 "
   ]
  }
 ],
 "metadata": {
  "kernelspec": {
   "display_name": "R",
   "language": "R",
   "name": "ir"
  },
  "language_info": {
   "codemirror_mode": "r",
   "file_extension": ".r",
   "mimetype": "text/x-r-source",
   "name": "R",
   "pygments_lexer": "r",
   "version": "4.1.3"
  }
 },
 "nbformat": 4,
 "nbformat_minor": 5
}
