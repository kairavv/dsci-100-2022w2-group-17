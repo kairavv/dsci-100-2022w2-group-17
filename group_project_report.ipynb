{
 "cells": [
  {
   "cell_type": "markdown",
   "id": "15fed911-a3a6-4fdd-938c-12e2960969dd",
   "metadata": {},
   "source": [
    "# What factors affect Airbnb Prices in Paris on Weekends?\n"
   ]
  },
  {
   "cell_type": "markdown",
   "id": "7ab26f46-feeb-404a-897c-ceea85608159",
   "metadata": {
    "tags": []
   },
   "source": [
    "## Inrtoduction\n",
    "\n",
    "Airbnbs have specific attributes (room type, cleanliness rating, superhost status etc.) that determine its price and perceived quality. Guests evaluate the quality through an online/digital rating system. Attributes of Parisian Airbnbs have been identified and collected into a data set on Kaggle. Utilization of this data allows us to analyze trends in Airbnb prices and popularity across different cities and neighborhoods and identify factors that may influence prices and demand. The data set includes 19 variables in each respective column, with each row documenting an Airbnb's price. \n",
    "\n",
    "For details of data set reference it [here](https://www.kaggle.com/datasets/thedevastator/airbnb-prices-in-european-cities?select=paris_weekends.csv ).\n",
    "\n",
    "The following are the potential predictor variables including their description: \n",
    "\n",
    "| Variable | Description | Type |\n",
    "| --- | --- | --- |\n",
    "| realSum | The total price of the Airbnb listing. | Numeric |\n",
    "| room_type | The type of room being offered (e.g. private, shared, etc.). | Categorical |\n",
    "| room_shared | Whether the room is shared or not. | Boolean |\n",
    "| room_private | Whether the room is private or not. | Boolean |\n",
    "| person_capacity | The maximum number of people that can stay in the room. | Numeric |\n",
    "| host_is_superhost | Whether the host is a superhost or not. | Boolean |\n",
    "| multi | Whether the listing is for multiple rooms or not. | Boolean |\n",
    "| biz | Whether the listing is for business purposes or not. | Boolean |\n",
    "| cleanliness_rating | The cleanliness rating of the listing. | Numeric |\n",
    "| guest_satisfaction_overall | The overall guest satisfaction rating of the listing. | Numeric |\n",
    "| bedrooms | The number of bedrooms in the listing. | Numeric |\n",
    "| dist | The distance from the city centre. | Numeric |\n",
    "| metro_dist | The distance from the nearest metro station. | Numeric |\n",
    "| lng | The longitude of the listing. | Numeric |\n",
    "| lat | The latitude of the listing. | Numeric |\n",
    "\n",
    "This project will take this data and attempt to answer the question: *What factors affect Airbnb Prices in Paris on Weekends?*\n",
    "\n",
    "\n",
    "\n"
   ]
  },
  {
   "cell_type": "markdown",
   "id": "d9eaf383-82e6-46fa-a4ea-5247f3a731ba",
   "metadata": {},
   "source": [
    "## Methods\n",
    "Methods will include the Preliminary exploratory data analysis and the Data analysis section.\n",
    "\n",
    "The data set will be read from the web link and wrangled into a tidy format. Then, it will be split into training and testing data subsets with a 0.7 proportion, with a seed of 8888 for consistency throughout the analyses. The training data will be used to train a classification model, and the testing data will be used to evaluate its accuracy.\n",
    "\n",
    "We will perform preliminary exploratory data analysis by finding statistics of the training data subset, such as the distribution and range of the location, guest satisfaction score, cleanliness rating, etc., to gain insight into our data set and how we will further our data analysis.\n",
    "\n",
    "There are a total of 7 potential predictor variables in this dataset. However, some predictors may not be relevant to our project. Therefore, we will selectively filter the appropriate predictor variables based on their correlation with the class variable. First, we will determine the respective correlation coefficients along with a visualization. We will find which predictors have the strongest correlations, but we will find that the correlations are fairly weak for all predictors. Therefore, we will choose the predictors with high correlations relative to all predictors. \n",
    "\n",
    "**Although we are using correlation to choose which predictors to use, we need to be aware that correlation does not imply causation - confounding variables or third variables may be affecting the results.**\n",
    "\n",
    "We will use forward selection to build a model with no predictor at first and then iteratively add a new predictor at a time until a stopping rule is satisfied, such as the maximum number of predictors allowed or the lack of statistical significance for any remaining predictors. The best model will be selected based on cross-validation accuracy and a trade-off between accuracy and simplicity.\n",
    "\n",
    "##### The following are general steps when performing forward selection: \n",
    "- Start with a model having no predictors.\n",
    "- For each unused predictor, add it to the model to form a candidate model.\n",
    "- Tune all of the candidate models.\n",
    "- Update the model to be the candidate model with the highest cross-validation accuracy.\n",
    "- Select the model that provides the best trade-off between accuracy and simplicity.\n",
    "\n",
    "This approach is beneficial for building predictive models because it offers a systematic way to identify the most important predictors, can handle large numbers of predictors, reduces the risk of overfitting, and improves model accuracy and interpretability by selecting the best set of predictors.\n",
    "\n",
    "A scatter plot or heat map can be created with prices as the dependent variable and the most prominent variables as independent variables to visualize the results of the analysis. This way any trends or patterns that may exist can be more easily visualized."
   ]
  },
  {
   "cell_type": "markdown",
   "id": "f23c94d3-7b0d-47aa-afb0-645e89541500",
   "metadata": {
    "tags": []
   },
   "source": [
    "## Preliminary exploratory data analysis\n",
    "\n",
    "##### The preliminary exploratory data analysis will include:\n",
    "- Reading the dataset from web link\n",
    "- Cleaning and wrangling data into a tidy format\n",
    "- Splitting into training data and test data\n",
    "- Statistics of the training subset\n",
    "- Visualization of training data predictors and determining appropriate predictors"
   ]
  },
  {
   "cell_type": "code",
   "execution_count": 6,
   "id": "8849d92f-1ca8-4661-b307-d25162d36aaf",
   "metadata": {
    "tags": []
   },
   "outputs": [
    {
     "name": "stderr",
     "output_type": "stream",
     "text": [
      "Installing package into ‘/home/jupyter/R/x86_64-pc-linux-gnu-library/4.2’\n",
      "(as ‘lib’ is unspecified)\n",
      "\n",
      "Installing package into ‘/home/jupyter/R/x86_64-pc-linux-gnu-library/4.2’\n",
      "(as ‘lib’ is unspecified)\n",
      "\n",
      "Installing package into ‘/home/jupyter/R/x86_64-pc-linux-gnu-library/4.2’\n",
      "(as ‘lib’ is unspecified)\n",
      "\n",
      "also installing the dependency ‘modeldata’\n",
      "\n",
      "\n",
      "Warning message in install.packages(\"tidymodels\"):\n",
      "“installation of package ‘modeldata’ had non-zero exit status”\n",
      "Warning message in install.packages(\"tidymodels\"):\n",
      "“installation of package ‘tidymodels’ had non-zero exit status”\n",
      "Installing package into ‘/home/jupyter/R/x86_64-pc-linux-gnu-library/4.2’\n",
      "(as ‘lib’ is unspecified)\n",
      "\n",
      "Installing package into ‘/home/jupyter/R/x86_64-pc-linux-gnu-library/4.2’\n",
      "(as ‘lib’ is unspecified)\n",
      "\n"
     ]
    }
   ],
   "source": [
    "\n",
    "install.packages(\"repr\")\n",
    "install.packages(\"tidyverse\")\n",
    "install.packages(\"tidymodels\")\n",
    "install.packages(\"GGally\")\n",
    "install.packages(\"gridExtra\")"
   ]
  },
  {
   "cell_type": "code",
   "execution_count": 8,
   "id": "48286469-2ebd-41db-a5f0-242c44b9a987",
   "metadata": {
    "tags": []
   },
   "outputs": [
    {
     "ename": "ERROR",
     "evalue": "Error in library(tidymodels): there is no package called ‘tidymodels’\n",
     "output_type": "error",
     "traceback": [
      "Error in library(tidymodels): there is no package called ‘tidymodels’\nTraceback:\n",
      "1. library(tidymodels)"
     ]
    }
   ],
   "source": [
    "# load the necessary libraries\n",
    "\n",
    "library(repr)\n",
    "library(tidyverse)\n",
    "library(tidymodels)\n",
    "library(GGally)\n",
    "library(gridExtra)\n",
    "options(repr.matrix.max.rows = 6)"
   ]
  },
  {
   "cell_type": "markdown",
   "id": "d8071fe4-760e-49f7-b468-9da3736acb19",
   "metadata": {},
   "source": [
    "#### Reading from web link\n",
    "Read the data frame from our GitHub repository"
   ]
  },
  {
   "cell_type": "code",
   "execution_count": null,
   "id": "00695546-2316-45bd-a56b-85f4651b5653",
   "metadata": {
    "tags": []
   },
   "outputs": [],
   "source": [
    "# Source: https://www.kaggle.com/datasets/thedevastator/airbnb-prices-in-european-cities?select=paris_weekends.csv\n",
    "\n",
    "# This code reads the \"paris_weekends.csv\" file from our GitHub repository and stores it in a data frame called \"paris_data_weekends\".\n",
    "paris_data_url <- \"https://raw.githubusercontent.com/kairavv/dsci-100-2022w2-group-17/728ea69b13f24e3d7056c5b072d33309ea0a85de/data/paris_weekends.csv\"\n",
    "paris_data <- read.csv(paris_data_url)\n",
    "\n",
    "# It then displays the data\n",
    "paris_data "
   ]
  },
  {
   "cell_type": "markdown",
   "id": "0a36e92e-2e0b-44ad-b003-de02312a5cc6",
   "metadata": {
    "tags": []
   },
   "source": [
    "#### Cleaning and Wrangling\n",
    "After the data is read, the variable are filtered as per our requirements\n",
    "\n",
    "Additionally, the quality variable is converted to a factor type, as it is a discrete variable."
   ]
  },
  {
   "cell_type": "code",
   "execution_count": null,
   "id": "6f7442d9-bf73-46b7-863e-20fc4945f53c",
   "metadata": {},
   "outputs": [],
   "source": [
    "# Cleaning the data, removing irrelevant or unnecessary variables to ensure that the data is in a consistent format.\n",
    "\n",
    "# Variables filtered out: X (unique identifier), lng (The longitude of the listing), lat (The latitude of the listing), \n",
    "                        #multi (Whether the listing is for multiple rooms or not), and biz (Whether the listing is for business purposes or not). \n",
    "\n",
    "# Variables to be utilized:\n",
    "new_paris_data <- paris_data |>\n",
    "  select(realSum,                     \n",
    "         person_capacity,\n",
    "         cleanliness_rating,\n",
    "         guest_satisfaction_overall,\n",
    "         bedrooms,\n",
    "         dist,\n",
    "         metro_dist)\n",
    "\n",
    "# Displaying the cleaned data\n",
    "new_paris_data "
   ]
  },
  {
   "cell_type": "markdown",
   "id": "971f2f20-eb3d-4d9e-85a1-40e0e48387a7",
   "metadata": {
    "tags": []
   },
   "source": [
    "#### Splitting\n",
    "A seed is set for consistency since splitting the data involves some form of randomness. \n",
    "\n",
    "The data is split with `SPLIT_PROPORTION` and strata `realSum`."
   ]
  },
  {
   "cell_type": "code",
   "execution_count": null,
   "id": "746c8556-3558-453f-a242-b27d70feecbc",
   "metadata": {
    "tags": []
   },
   "outputs": [],
   "source": [
    "# 3557 total examples\n",
    "# Split dataset into 75% training and 25% testing\n",
    "\n",
    "# set seed for consistency\n",
    "set.seed(8888)\n",
    "\n",
    "# splitting data set into training and testing subsets\n",
    "SPLIT_PROPORTION = 0.75\n",
    "paris_split <- initial_split(new_paris_data, prop = 0.75, strata = realSum) \n",
    "\n",
    "paris_train <- training(paris_split)\n",
    "paris_test <- testing(paris_split)\n",
    "\n",
    "# Table and Counts: count the number of observations in each subset\n",
    "paste(\"Number of observations in training data subset: \", pull(count(paris_train)))\n",
    "paste(\"Number of observations in testing data subset: \", pull(count(paris_test)))"
   ]
  },
  {
   "cell_type": "markdown",
   "id": "edd3b925-7d92-49e4-823d-96cdec1dc068",
   "metadata": {},
   "source": [
    "#### Statistics of training data subset\n",
    "Some statistics include number of `null` and `N/A`, and the min, mean, max, standard deviation.\n",
    "\n",
    "<sub>Note: rules of the tidy data do not apply to visual representation of statistics.</sub>"
   ]
  },
  {
   "cell_type": "code",
   "execution_count": null,
   "id": "d6a76d5e-ebd8-4292-9560-dc4d2ea78028",
   "metadata": {},
   "outputs": [],
   "source": [
    "# Check for null and N/A data\n",
    "paste(\"Number of null values: \", sum(map_df(paris_train, is.null)))\n",
    "paste(\"Number of N/A values: \", sum(map_df(paris_train, is.na)))\n",
    "\n",
    "# Produce summary statistics of the training data, not used as it is difficult to read\n",
    "# summary(paris_train)\n",
    "\n",
    "# Abstract function for reducing repetitive code (template)\n",
    "my_map <- function(fn) {\n",
    "    paris_train |>\n",
    "    select(-person_capacity) |>\n",
    "    # apply function from parameter into map function\n",
    "    map_df(fn) |>\n",
    "    # pivot for a better view\n",
    "    pivot_longer(cols = c(realSum, cleanliness_rating:metro_dist), values_to = as.character(substitute(fn)), names_to = \"variable\")\n",
    "}\n",
    "\n",
    "# combine all the statistical summaries, but exclude the variable column from all except the first one.\n",
    "bind_cols(my_map(min), select(my_map(mean), mean), select(my_map(max), max), select(my_map(sd), sd))"
   ]
  },
  {
   "cell_type": "markdown",
   "id": "6348c4da-bc87-4de2-869a-990437671136",
   "metadata": {},
   "source": [
    "Based on the analysis above, there isn't any invalid or missing values in the dataset. Therefore, no further data wrangling is necessary at this stage.\n",
    "#### Visualization of training data subset\n",
    "\n",
    "The last part involves plots that are relevant to the objective.\n",
    "The first plot is a distribution of the `realSum` class variable (in defined ranges)."
   ]
  },
  {
   "cell_type": "code",
   "execution_count": null,
   "id": "5c7e3610-5df6-4f2f-a1a2-5e5577f114b4",
   "metadata": {},
   "outputs": [],
   "source": [
    "options(repr.plot.width = 10, repr.plot.height = 10)\n",
    "\n",
    "# define the breakpoints for the realSum column\n",
    "breaks <- c(0, 100, 200, 300, 400, 500, 600, 700, Inf)\n",
    "\n",
    "# create a new column with the ranges\n",
    "paris_train$realSumRange <- cut(paris_train$realSum, breaks = breaks, include.lowest = TRUE)\n",
    "\n",
    "# plotting the distribution of Airbnbs throught Paris, based on the price range\n",
    "# create a histogram with ggplot2\n",
    "paris_graph_freq <- ggplot(paris_train, aes(x = realSumRange)) +\n",
    "    geom_bar() +\n",
    "    labs(x = \"Price Range (EUR)\", y = \"Number of Airbnbs\") + \n",
    "    ggtitle(\"Distribution of Airbnbs\") +\n",
    "    theme(text = element_text(size = 20)) +\n",
    "    scale_x_discrete(labels = c(\"0-100\", \"100-200\", \"200-300\", \"300-400\", \"400-500\", \"500-600\", \"600-700\", \"700+\"))\n",
    "paris_graph_freq"
   ]
  },
  {
   "cell_type": "markdown",
   "id": "6d5e71f6-2988-4b62-86f8-5b46b389b225",
   "metadata": {},
   "source": [
    "The plot above shows that the `realSum` variable is (somewhat) normally distributed, with a peak at the price range of 200-300 EUR. Most of the Airbnbs are priced above 100 EUR and with the highest above 700 EUR. \n"
   ]
  },
  {
   "cell_type": "markdown",
   "id": "fb2b867e-243b-473e-bc74-970c97ebc0a9",
   "metadata": {},
   "source": [
    "The second plot compares the distribution of the potential predictor variables. The data is normalized with `scale()` and plotted as histograms (an appropriate visual comparison) with `facet_wrap()`. Outliers are removed to improve the visualization."
   ]
  },
  {
   "cell_type": "code",
   "execution_count": null,
   "id": "e273631d-8d0d-4442-b888-77829a04ff13",
   "metadata": {},
   "outputs": [],
   "source": [
    "options(repr.plot.width = 20, repr.plot.height = 12)\n",
    "\n",
    "#normalize the data with respect to each predictor variable\n",
    "paris_train_normalized <- paris_train |>\n",
    "  select(realSum, guest_satisfaction_overall, dist, metro_dist) |>\n",
    "  scale() |>\n",
    "  as.data.frame()\n",
    "\n",
    "paris_train_longer <- pivot_longer(paris_train_normalized, cols = realSum:metro_dist, names_to = \"variable\", values_to = \"value\")\n",
    "\n",
    "# define binwidth constant\n",
    "PREDICTOR_BINWIDTH <- 0.25\n",
    "\n",
    "# code to plot without excluding outliers\n",
    "# paris_predictor_histogram <- ggplot(paris_training_normalized_longer, aes(x = value)) + \n",
    "#     geom_histogram(binwidth = PREDICTOR_BINWIDTH) +\n",
    "#     facet_grid(rows = vars(variable)) +\n",
    "#     ggtitle(\"Normalized histogram of predictor variables\") +\n",
    "#     labs(x = \"Normalized value of predictor variables\", y = \"Number of Airbnbs\") + \n",
    "#     theme(text = element_text(size = 18))\n",
    "\n",
    "# remove outliers that are outside of 3 standard deviations\n",
    "paris_train_normalized_longer_eo <- filter(paris_train_longer, value < 3 & value > -3)\n",
    "\n",
    "paris_predictor_histogram_eo <- ggplot(paris_train_normalized_longer_eo, aes(x = value)) + \n",
    "    geom_histogram(binwidth = PREDICTOR_BINWIDTH) +\n",
    "    facet_wrap(vars(variable)) +\n",
    "    ggtitle(\"Normalized histogram of predictor variables (excl. outliers)\") +\n",
    "    labs(x = \"Normalized value of predictor variables\", y = \"Number of Airbnbs\") + \n",
    "    theme(text = element_text(size = 18))\n",
    "\n",
    "paris_predictor_histogram_eo"
   ]
  },
  {
   "cell_type": "markdown",
   "id": "c8f6cebf-4262-4601-8152-5da1b2f2bd0c",
   "metadata": {},
   "source": [
    "The second plot shows that some of the predictor variable distributions tend to be positively skewed and some distributions are taller than others.\n",
    "\n",
    "The third plot involves `ggpairs()` from the `GGally` extension of `ggplot2`. It will create a scatter plot matrix with correlation coefficients that allows visualizations of relationships between predictor variables. For this visualization, `realSumRange` is removed from the dataset as it is not relevant to the analysis being performed here, it was already explored in a separate analysis above."
   ]
  },
  {
   "cell_type": "code",
   "execution_count": null,
   "id": "6fc99818-f87f-4967-bfc9-790c0ed90106",
   "metadata": {},
   "outputs": [],
   "source": [
    "options(repr.plot.width = 16, repr.plot.height = 10)\n",
    "paris_train |>\n",
    "  select(-realSumRange) |>\n",
    "  ggpairs()"
   ]
  },
  {
   "cell_type": "markdown",
   "id": "555af1b9-d167-41c7-b7b1-d66a7845ad24",
   "metadata": {},
   "source": [
    "From the plot above, the correlation coefficient between variables can be seen along with the scatterplot.\n",
    "\n",
    "Below is an example scatter plot to explore the two predictor variables that have relatively highest correlation with each other. In the first plot, distance from the city center vs. listing price is used for axes, and the `realSumRange` variable as the color. The data used in this scatter plot is not normalized."
   ]
  },
  {
   "cell_type": "code",
   "execution_count": null,
   "id": "be125108-9abb-434f-aae7-179818ea63ad",
   "metadata": {},
   "outputs": [],
   "source": [
    "options(repr.plot.width = 16, repr.plot.height = 10)\n",
    "\n",
    "ggplot(paris_train, aes(x = dist, y = realSum, color = cut(realSum, breaks = c(0,100,200,300,400,500,600,700, Inf), \n",
    "                                                           labels = c(\"0-100\", \"100-200\", \"200-300\", \"300-400\", \"400-500\", \"500-600\", \"600-700\", \"700+\")))) +\n",
    "  geom_point(alpha = 0.7) +\n",
    "  ggtitle(\"Distance from the city center vs. Listing price\") +\n",
    "  labs(x = \"Distance from city center (km)\", y = \"Listing Price (EUR)\", color = \"Price Range (EUR)\") + \n",
    "  theme(text = element_text(size = 18))"
   ]
  },
  {
   "cell_type": "markdown",
   "id": "f38832a1-05e1-4196-9671-220067b9ce07",
   "metadata": {},
   "source": [
    "The scatterplot shows that there is no relationship between the distance from the city center and the listing price, as the points are randomly scattered across the plot without any discernible pattern. The listing price for Airbnbs with different distances from the city center is mostly less than 1500 EUR. They appear to be concentrated at the plot's bottom (center) region, but there is no clear linear or nonlinear association between the variables. \n",
    "\n",
    "The next scatter plot explores the relationship between two predictor variables, the distance from the city center and the listing price, while also using the realSumRange variable to indicate the color. The data used in this scatter plot is not normalized."
   ]
  },
  {
   "cell_type": "code",
   "execution_count": null,
   "id": "cb64ca68-c543-4b32-8af2-b22c1f02348b",
   "metadata": {},
   "outputs": [],
   "source": [
    "options(repr.plot.width = 16, repr.plot.height = 10)\n",
    "\n",
    "ggplot(paris_train, aes(x = metro_dist, y = realSum, color = cut(realSum, breaks = c(0,100,200,300,400,500,600,700, Inf), \n",
    "                                                                 labels = c(\"0-100\", \"100-200\", \"200-300\", \"300-400\", \"400-500\", \"500-600\", \"600-700\", \"700+\")))) +\n",
    "  geom_point(alpha = 0.7) +\n",
    "  ggtitle(\"Distance from the nearest metro station vs. listing price\") +\n",
    "  labs(x = \"Distance from nearest metro station (km)\", y = \"Listing Price (EUR)\", color = \"Price Range (EUR)\") + \n",
    "  theme(text = element_text(size = 18))"
   ]
  },
  {
   "cell_type": "markdown",
   "id": "7af06d25-d56a-4453-a5f5-27c420b50619",
   "metadata": {},
   "source": [
    "Similarly to the last scatter plot, this example shows no relationship between the two variables (i.e., listing price and distance from the nearest metro station). The data points are concentrated at the bottom left of the graph and are scattered randomly. There is no clear pattern or trend in the data points; specifically, the change in one variable does not appear to be related to changes in the other variable. Therefore, there is no relationship between the distance from the nearest metro station and the listing price. \n",
    "\n",
    "The next scatter plots further explore the relationship between the `dist`, `metro_dist`, and `guest_satisfaction_overall` variables. The data used in these scatter plots are not normalized. The first scatter plot compares the distance from the city center with the Guest Satisfaction ratings. "
   ]
  },
  {
   "cell_type": "code",
   "execution_count": null,
   "id": "bc94a233-423e-4476-89fb-770e7b6f65bd",
   "metadata": {},
   "outputs": [],
   "source": [
    "options(repr.plot.width = 16, repr.plot.height = 10)\n",
    "\n",
    "ggplot(paris_train, aes(x = dist, y = guest_satisfaction_overall)) +\n",
    "  geom_point(alpha = 0.7) +\n",
    "  ggtitle(\"Distance from the city center vs. Guest Satisfaction\") +\n",
    "  labs(x = \"Distance from city center (km)\", y = \"Guest Satisfaction (Overall)\") + \n",
    "  theme(text = element_text(size = 18))\n"
   ]
  },
  {
   "cell_type": "markdown",
   "id": "0d40605c-beea-44be-a0f5-05ab42fe1e34",
   "metadata": {},
   "source": [
    "This example displays no relationship between distance from the city center and guest satisfaction, for the points are concentrated at the top of the graph without a clear pattern or direction. The changes in one variable do not appear to be associated with changes in the other variable.\n",
    "\n",
    "The next scatter plot compares the distance from the nearest metro station with the Guest Satisfaction ratings. "
   ]
  },
  {
   "cell_type": "code",
   "execution_count": null,
   "id": "c9d2d23f-52f9-4ff2-8d0f-8d666648f28c",
   "metadata": {},
   "outputs": [],
   "source": [
    "options(repr.plot.width = 16, repr.plot.height = 10)\n",
    "\n",
    "ggplot(paris_train, aes(x = metro_dist, y = guest_satisfaction_overall)) +\n",
    "  geom_point(alpha = 0.7) +\n",
    "  ggtitle(\"Distance from the nearest metro station vs. Guest Satisfaction\") +\n",
    "  labs(x = \"Distance from nearest metro station (km)\", y = \"Guest Satisfaction (Overall)\") + \n",
    "  theme(text = element_text(size = 18))\n"
   ]
  },
  {
   "cell_type": "markdown",
   "id": "bc84e4cf-30cf-4ca7-8a39-86650683ed3e",
   "metadata": {},
   "source": [
    "This scatterplot shows no relationship between the two variables' distance from the city center and guest satisfaction. No relationship can be concluded as the points are concentrated at the top of the graph without a clear pattern, direction or shape. This lack of a linear relationship shows that distance from the nearest metro station and guest satisfaction do not affect each other, meaning the values of one variable cannot be predicted or explained by the values of the other variable, and vice versa. The change in one variable also does not affect the other variable. "
   ]
  },
  {
   "cell_type": "code",
   "execution_count": null,
   "id": "3ad4e824-ee8f-4ba4-b60d-8e56af5eb374",
   "metadata": {
    "tags": []
   },
   "outputs": [],
   "source": [
    "paris_subset <- paris_train |> \n",
    "  select(realSum,\n",
    "         person_capacity,\n",
    "         cleanliness_rating,\n",
    "         guest_satisfaction_overall,\n",
    "         bedrooms,\n",
    "         dist,\n",
    "         metro_dist)\n",
    "\n",
    "names <- colnames(paris_subset |> select(-realSum))\n",
    "\n",
    "paris_subset"
   ]
  },
  {
   "cell_type": "code",
   "execution_count": 9,
   "id": "bb68a50c-02d8-4656-8ecd-f46b3e568dc3",
   "metadata": {
    "tags": []
   },
   "outputs": [
    {
     "ename": "ERROR",
     "evalue": "Error in set_mode(set_engine(nearest_neighbor(weight_func = \"rectangular\", : could not find function \"set_mode\"\n",
     "output_type": "error",
     "traceback": [
      "Error in set_mode(set_engine(nearest_neighbor(weight_func = \"rectangular\", : could not find function \"set_mode\"\nTraceback:\n"
     ]
    }
   ],
   "source": [
    "# create an empty tibble to store the results\n",
    "accuracies <- tibble(size = integer(), \n",
    "                     model_string = character(), \n",
    "                     accuracy = numeric())\n",
    "\n",
    "# create a model specification\n",
    "knn_spec <- nearest_neighbor(weight_func = \"rectangular\", \n",
    "                             neighbors = tune()) |>\n",
    "     set_engine(\"kknn\") |>\n",
    "     set_mode(\"classification\")\n",
    "\n",
    "# create a 5-fold cross-validation object\n",
    "paris_vfold <- vfold_cv(paris_subset, v = 5, strata = realSum)\n",
    "\n",
    "# store the total number of predictors\n",
    "n_total <- length(names)\n",
    "\n",
    "# stores selected predictors\n",
    "selected <- c()\n",
    "\n",
    "# for every size from 1 to the total number of predictors\n",
    "for (i in 1:n_total) {\n",
    "    # for every predictor still not added yet\n",
    "    accs <- list()\n",
    "    models <- list()\n",
    "    for (j in 1:length(names)) {\n",
    "        # create a model string for this combination of predictors\n",
    "        preds_new <- c(selected, names[[j]])\n",
    "        model_string <- paste(\"CrealSum\", \"~\", paste(preds_new, collapse=\"+\"))\n",
    "\n",
    "        # create a recipe from the model string\n",
    "        paris_recipe <- recipe(as.formula(model_string), \n",
    "                                data = cancer_subset) |>\n",
    "                          step_scale(all_predictors()) |>\n",
    "                          step_center(all_predictors())\n",
    "\n",
    "        # tune the KNN classifier with these predictors, \n",
    "        # and collect the accuracy for the best K\n",
    "        acc <- workflow() |>\n",
    "          add_recipe(paris_recipe) |>\n",
    "          add_model(knn_spec) |>\n",
    "          tune_grid(resamples = cancer_vfold, grid = 10) |>\n",
    "          collect_metrics() |>\n",
    "          filter(.metric == \"accuracy\") |>\n",
    "          summarize(mx = max(mean))\n",
    "        acc <- acc$mx |> unlist()\n",
    "\n",
    "        # add this result to the dataframe\n",
    "        accs[[j]] <- acc\n",
    "        models[[j]] <- model_string\n",
    "    }\n",
    "    jstar <- which.max(unlist(accs))\n",
    "    accuracies <- accuracies |> \n",
    "      add_row(size = i, \n",
    "              model_string = models[[jstar]], \n",
    "              accuracy = accs[[jstar]])\n",
    "    selected <- c(selected, names[[jstar]])\n",
    "    names <- names[-jstar]\n",
    "}\n",
    "accuracies"
   ]
  },
  {
   "cell_type": "markdown",
   "id": "1249bd9f-c37f-4f3e-93a4-1ae213ebdfe5",
   "metadata": {},
   "source": [
    "#### Everything below this is just a template and/or incorrect\n",
    "---"
   ]
  },
  {
   "cell_type": "markdown",
   "id": "af29fbcd-9ae3-499f-b7c2-d531daaa57be",
   "metadata": {},
   "source": [
    "## Data analysis\n",
    "\n",
    "##### Data analysis will include:\n",
    "- Start with a model having no predictors.\n",
    "- For each unused predictor, add it to the model to form a candidate model.\n",
    "- Tune all of the candidate models.\n",
    "- Update the model to be the candidate model with the highest cross-validation accuracy.\n",
    "- Select the model that provides the best trade-off between accuracy and simplicity."
   ]
  },
  {
   "cell_type": "code",
   "execution_count": null,
   "id": "5986a338-e6f4-4fe6-b2ef-5a89563b7463",
   "metadata": {},
   "outputs": [],
   "source": [
    "\n",
    "\n",
    "# Create a data frame with the predictors to include in the model\n",
    "predictors <- c(\"guest_satisfaction_overall\", \"dist\", \"metro_dist\")\n",
    "\n",
    "# Create a formula with the response variable and the initial set of predictors\n",
    "formula <- formula(paste(\"realSum ~\", paste(predictors, collapse = \"+\")))\n",
    "\n",
    "# Perform forward selection using the leaps package\n",
    "fit <- regsubsets(formula, data = paris_train, nvmax = length(predictors), method = \"forward\")\n",
    "\n",
    "# Print the summary of the fit\n",
    "summary(fit)\n",
    "\n",
    "# Get the best model based on adjusted R-squared\n",
    "best_model <- which.max(summary(fit)$adjr2)\n",
    "names(coef(fit, id = best_model))"
   ]
  },
  {
   "cell_type": "markdown",
   "id": "d5752878-6856-4272-a14f-804e22246e28",
   "metadata": {},
   "source": [
    "The output shows that the algorithm identified 3 variables (guest_satisfaction_overall, dist, and metro_dist) as the best predictors to include in the model. The first column labeled \"Forced in\" indicates whether the variable was required to be included in the model. The second column labeled \"Forced out\" indicates whether the variable was not allowed to be included in the model.\n",
    "\n",
    "The asterisks (*) in the output indicate which variables were selected for each subset. The first row shows an empty subset (only the intercept term is included), the second row shows the subset that includes only the variable \"guest_satisfaction_overall\" and the intercept term, the third row shows the subset that includes \"guest_satisfaction_overall\" and \"dist\" and the intercept term, and the fourth row shows the subset that includes all three variables (guest_satisfaction_overall, dist, and metro_dist) and the intercept term.\n",
    "\n",
    "Finally, the last line of output shows the intercept term and the three selected predictor variables in the final model.\n",
    "\n",
    "The next step would be to interpret the results and use them to inform further analysis or decision-making.\n",
    "\n",
    "From the output you provided, it appears that the regsubsets function was used to perform forward stepwise regression on a set of predictors (guest_satisfaction_overall, dist, and metro_dist) to determine the best subset of variables to use in a linear regression model. The results show that the best model includes all three variables.\n",
    "\n",
    "The table below the algorithm output shows the variables included in each of the three models generated by the algorithm, along with an asterisk (*) indicating which variables were selected. The final row shows the variables included in the best model, which includes all three variables.\n",
    "\n",
    "The last line shows the coefficients of the variables in the final model: the intercept, guest_satisfaction_overall, dist, and metro_dist. These coefficients can be used to estimate the relationship between the predictor variables and the outcome variable of interest."
   ]
  },
  {
   "cell_type": "code",
   "execution_count": null,
   "id": "a04db662-7c15-4b32-a64b-5a78961a4351",
   "metadata": {},
   "outputs": [],
   "source": [
    "# define predictors\n",
    "predictors <- c(\"guest_satisfaction_overall\", \"dist\", \"metro_dist\")\n",
    "\n",
    "# perform subset selection using forward selection\n",
    "subset_model <- regsubsets(formula = realSum ~ ., data = paris_train[, predictors], nvmax = length(predictors), method = \"forward\")\n",
    "\n",
    "# select the best model with 3 predictors\n",
    "best_model <- subset_model$which[3,]\n",
    "\n",
    "# fit a linear regression model using the selected subset of variables\n",
    "final_model <- lm(realSum ~ ., data = paris_train[, c(\"price\", names(best_model))])"
   ]
  },
  {
   "cell_type": "code",
   "execution_count": null,
   "id": "51423217-f234-45f5-8f4f-0c33eb9da67c",
   "metadata": {},
   "outputs": [],
   "source": [
    "# Create a data frame with the selected variables\n",
    "paris_train_selected <- paris_train %>% \n",
    "  select(realSum, person_capacity, cleanliness_rating, guest_satisfaction_overall, bedrooms, dist, metro_dist)\n",
    "\n",
    "# Perform forward stepwise selection\n",
    "reg_fit <- regsubsets(realSum ~ ., data = paris_train_selected, nvmax = 15, method = \"forward\")\n",
    "\n",
    "# Summarize the results\n",
    "summary(reg_fit)"
   ]
  },
  {
   "cell_type": "markdown",
   "id": "0db39c2a-195c-41bf-9112-a90c36acee41",
   "metadata": {},
   "source": [
    "This visualization depicts a scatterplot of the quality ratings of red wine based on the two predictors we selected - `volatile acidity` on the x-axis and `alcohol` on the y-axis. \n",
    "\n",
    "\n",
    "\n",
    "#### Training classification model with K-NN\n",
    "Next, we will construct a training classification model with K-NN to determine the best value of k (code blocks are split so that individual code blocks can be run and skip run time)."
   ]
  },
  {
   "cell_type": "code",
   "execution_count": null,
   "id": "04e616e0-bac2-41dc-92aa-4dc7d6b514a3",
   "metadata": {},
   "outputs": [],
   "source": [
    "# create a formula with all variables\n",
    "full_formula <- formula(realSum ~ .)\n",
    "\n",
    "# perform stepwise regression using AIC as the criterion\n",
    "model <- step(lm(full_formula, data = paris_train), direction = \"both\", k = log(nrow(paris_train)), trace = FALSE)"
   ]
  },
  {
   "cell_type": "code",
   "execution_count": null,
   "id": "375486a2-5a7b-4a88-bf64-89dd85c8dd7c",
   "metadata": {},
   "outputs": [],
   "source": [
    "predictors <- c(\"room_type\", \"room_shared\", \"room_private\", \"person_capacity\", \"host_is_superhost\", \n",
    "                \"multi\", \"biz\", \"cleanliness_rating\", \"guest_satisfaction_overall\", \"bedrooms\", \n",
    "                \"dist\", \"metro_dist\", \"lng\", \"lat\")\n",
    "\n",
    "result <- regsubsets(price ~ ., data = paris_train[, predictors], nvmax = length(predictors), method = \"forward\")\n",
    "\n",
    "summary(result)\n",
    "\n",
    "# Create a data frame of the model sizes and adjusted R-squared values\n",
    "rsq <- summary(result)$adjr2\n",
    "size <- seq_along(rsq)\n",
    "df <- data.frame(Size = size, Adjusted_R_Squared = rsq)\n",
    "\n",
    "# Plot the adjusted R-squared values against the number of predictors\n",
    "ggplot(df, aes(x = Size, y = Adjusted_R_Squared)) +\n",
    "  geom_line() +\n",
    "  geom_point() +\n",
    "  xlab(\"Number of Predictors\") +\n",
    "  ylab(\"Adjusted R-squared\")"
   ]
  },
  {
   "cell_type": "markdown",
   "id": "996f8a48-853b-4de5-97d1-d3f669785bc9",
   "metadata": {},
   "source": [
    "## Discussion\n",
    "\n",
    "The purpose of this study was to investigate the relationship between the proximity of Airbnb listings to popular attractions and amenities and their impact on guest satisfaction and listing price. We found that our hypothesis was supported by the data, as the proximity of Airbnb locations to metro stations had a positive impact on guest satisfaction and an increase in listing price.\n",
    "\n",
    "Our results suggest that Airbnb listings located closer to popular attractions and amenities (metro stations) tend to have higher guest satisfaction and command higher prices than those farther away. This finding has important implications for both hosts and guests. Hosts can use this information to improve their marketing strategy and adjust their pricing accordingly, while guests can use it to make more informed decisions about where to stay when traveling.\n",
    "\n",
    "The impact of our findings could also extend to the tourism industry as a whole. As more tourists flock to popular attractions, businesses in the surrounding areas could experience increased traffic and revenue. However, this could also lead to issues such as overcrowding and strain on local resources. Further research could explore which specific businesses or industries would be most impacted by increased tourism, both positively and negatively.\n",
    "\n",
    "Moreover, our findings could also inform the development of urban planning strategies aimed at creating more sustainable and equitable cities. By identifying the amenities and attractions that are most strongly associated with higher guest satisfaction and pricing in different cities or regions, policymakers can make informed decisions about where to allocate resources and prioritize development projects."
   ]
  },
  {
   "cell_type": "markdown",
   "id": "68389741-c562-4f29-8c7f-d2c93d99d428",
   "metadata": {},
   "source": [
    "#### References:\n",
    "1. https://www.kaggle.com/datasets/thedevastator/airbnb-prices-in-european-cities?select=paris_weekends.csv \n",
    "2. https://www.sciencedirect.com/science/article/pii/S0261517718300785\n",
    "3. https://www.sciencedirect.com/science/article/pii/S1877916621000424 "
   ]
  }
 ],
 "metadata": {
  "kernelspec": {
   "display_name": "R",
   "language": "R",
   "name": "ir"
  },
  "language_info": {
   "codemirror_mode": "r",
   "file_extension": ".r",
   "mimetype": "text/x-r-source",
   "name": "R",
   "pygments_lexer": "r",
   "version": "4.2.3"
  }
 },
 "nbformat": 4,
 "nbformat_minor": 5
}
