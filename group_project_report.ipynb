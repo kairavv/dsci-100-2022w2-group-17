{
 "cells": [
  {
   "cell_type": "markdown",
   "id": "15fed911-a3a6-4fdd-938c-12e2960969dd",
   "metadata": {},
   "source": [
    "# What factors affect Airbnb Prices in Paris on Weekends?\n"
   ]
  },
  {
   "cell_type": "markdown",
   "id": "7ab26f46-feeb-404a-897c-ceea85608159",
   "metadata": {
    "tags": []
   },
   "source": [
    "## Inrtoduction\n",
    "\n",
    "Airbnbs have specific attributes (room type, cleanliness rating, superhost status etc.) that determine its price and perceived quality. Guests evaluate the quality through an online/digital rating system. Attributes of Parisian Airbnbs have been identified and collected into a data set on Kaggle. Utilization of this data allows us to analyze trends in Airbnb prices and popularity across different cities and neighborhoods and identify factors that may influence prices and demand. The data set includes 19 variables in each respective column, with each row documenting an Airbnb's price. \n",
    "\n",
    "For details of data set reference it [here](https://www.kaggle.com/datasets/thedevastator/airbnb-prices-in-european-cities?select=paris_weekends.csv ).\n",
    "\n",
    "The following are the potential predictor variables including their description: \n",
    "\n",
    "| Variable | Description | Type |\n",
    "| --- | --- | --- |\n",
    "| realSum | The total price of the Airbnb listing. | Numeric |\n",
    "| room_type | The type of room being offered (e.g. private, shared, etc.). | Categorical |\n",
    "| room_shared | Whether the room is shared or not. | Boolean |\n",
    "| room_private | Whether the room is private or not. | Boolean |\n",
    "| person_capacity | The maximum number of people that can stay in the room. | Numeric |\n",
    "| host_is_superhost | Whether the host is a superhost or not. | Boolean |\n",
    "| multi | Whether the listing is for multiple rooms or not. | Boolean |\n",
    "| biz | Whether the listing is for business purposes or not. | Boolean |\n",
    "| cleanliness_rating | The cleanliness rating of the listing. | Numeric |\n",
    "| guest_satisfaction_overall | The overall guest satisfaction rating of the listing. | Numeric |\n",
    "| bedrooms | The number of bedrooms in the listing. | Numeric |\n",
    "| dist | The distance from the city centre. | Numeric |\n",
    "| metro_dist | The distance from the nearest metro station. | Numeric |\n",
    "| lng | The longitude of the listing. | Numeric |\n",
    "| lat | The latitude of the listing. | Numeric |\n",
    "\n",
    "This project will take this data and attempt to answer the question: *What factors affect Airbnb Prices in Paris on Weekends?*\n",
    "\n",
    "\n",
    "\n"
   ]
  },
  {
   "cell_type": "markdown",
   "id": "f23c94d3-7b0d-47aa-afb0-645e89541500",
   "metadata": {
    "tags": []
   },
   "source": [
    "## Preliminary exploratory data analysis\n",
    "\n",
    "##### The preliminary exploratory data analysis will include:\n",
    "- Reading the dataset from web link\n",
    "- Cleaning and wrangling data into a tidy format\n",
    "- Splitting into training data and test data\n",
    "- Statistics of the training subset\n",
    "- Visualizing training data and comparing distributions of predictor variables"
   ]
  },
  {
   "cell_type": "code",
   "execution_count": null,
   "id": "48286469-2ebd-41db-a5f0-242c44b9a987",
   "metadata": {},
   "outputs": [],
   "source": [
    "# load the necessary libraries\n",
    "library(repr)\n",
    "library(tidyverse)\n",
    "library(tidymodels)\n",
    "library(GGally)\n",
    "library(gridExtra)\n",
    "options(repr.matrix.max.rows = 6)"
   ]
  },
  {
   "cell_type": "markdown",
   "id": "d8071fe4-760e-49f7-b468-9da3736acb19",
   "metadata": {},
   "source": [
    "#### Reading from web link\n",
    "Read the data frame from our GitHub repository"
   ]
  },
  {
   "cell_type": "code",
   "execution_count": null,
   "id": "00695546-2316-45bd-a56b-85f4651b5653",
   "metadata": {},
   "outputs": [],
   "source": [
    "# Source: https://www.kaggle.com/datasets/thedevastator/airbnb-prices-in-european-cities?select=paris_weekends.csv\n",
    "\n",
    "# This code reads the \"paris_weekends.csv\" file from our GitHub repository and stores it in a data frame called \"paris_data_weekends\".\n",
    "paris_data_url <- \"https://raw.githubusercontent.com/kairavv/dsci-100-2022w2-group-17/728ea69b13f24e3d7056c5b072d33309ea0a85de/data/paris_weekends.csv\"\n",
    "paris_data <- read.csv(paris_data_url)\n",
    "\n",
    "# It then displays the data\n",
    "paris_data "
   ]
  },
  {
   "cell_type": "markdown",
   "id": "0a36e92e-2e0b-44ad-b003-de02312a5cc6",
   "metadata": {
    "tags": []
   },
   "source": [
    "#### Cleaning and Wrangling\n",
    "After the data is read, the variable are filtered as per our requirements\n",
    "\n",
    "Additionally, the quality variable is converted to a factor type, as it is a discrete variable."
   ]
  },
  {
   "cell_type": "code",
   "execution_count": null,
   "id": "6f7442d9-bf73-46b7-863e-20fc4945f53c",
   "metadata": {},
   "outputs": [],
   "source": [
    "# Cleaning the data, removing irrelevant or unnecessary variables to ensure that the data is in a consistent format.\n",
    "\n",
    "# Variables filtered out: X (unique identifier), lng (The longitude of the listing), lat (The latitude of the listing), \n",
    "                        #multi (Whether the listing is for multiple rooms or not), and biz (Whether the listing is for business purposes or not). \n",
    "\n",
    "# Variables to be utilized:\n",
    "new_paris_data <- paris_data |>\n",
    "  select(realSum,                     \n",
    "         person_capacity,\n",
    "         cleanliness_rating,\n",
    "         guest_satisfaction_overall,\n",
    "         bedrooms,\n",
    "         dist,\n",
    "         metro_dist)\n",
    "\n",
    "# Displaying the cleaned data\n",
    "new_paris_data "
   ]
  },
  {
   "cell_type": "markdown",
   "id": "971f2f20-eb3d-4d9e-85a1-40e0e48387a7",
   "metadata": {
    "tags": []
   },
   "source": [
    "#### Splitting\n",
    "A seed is set for consistency since splitting the data involves some form of randomness. \n",
    "\n",
    "The data is split with `SPLIT_PROPORTION` and strata `realSum`."
   ]
  },
  {
   "cell_type": "code",
   "execution_count": null,
   "id": "746c8556-3558-453f-a242-b27d70feecbc",
   "metadata": {
    "tags": []
   },
   "outputs": [],
   "source": [
    "# 3557 total examples\n",
    "# Split dataset into 75% training and 25% testing\n",
    "\n",
    "# set seed for consistency\n",
    "set.seed(8888)\n",
    "\n",
    "# splitting data set into training and testing subsets\n",
    "SPLIT_PROPORTION = 0.75\n",
    "paris_split <- initial_split(new_paris_data, prop = 0.75, strata = realSum) \n",
    "\n",
    "paris_train <- training(paris_split)\n",
    "paris_test <- testing(paris_split)\n",
    "\n",
    "# Table and Counts: count the number of observations in each subset\n",
    "paste(\"Number of observations in training data subset: \", pull(count(paris_train)))\n",
    "paste(\"Number of observations in testing data subset: \", pull(count(paris_test)))"
   ]
  },
  {
   "cell_type": "markdown",
   "id": "edd3b925-7d92-49e4-823d-96cdec1dc068",
   "metadata": {},
   "source": [
    "#### Statistics of training data subset\n",
    "Some statistics include number of `null` and `N/A`, and the min, mean, max, standard deviation.\n",
    "\n",
    "<sub>Note: rules of the tidy data do not apply to visual representation of statistics.</sub>"
   ]
  },
  {
   "cell_type": "code",
   "execution_count": null,
   "id": "d6a76d5e-ebd8-4292-9560-dc4d2ea78028",
   "metadata": {},
   "outputs": [],
   "source": [
    "# Check for null and N/A data\n",
    "paste(\"Number of null values: \", sum(map_df(paris_train, is.null)))\n",
    "paste(\"Number of N/A values: \", sum(map_df(paris_train, is.na)))\n",
    "\n",
    "# Produce summary statistics of the training data, not used as it is difficult to read\n",
    "# summary(paris_train)\n",
    "\n",
    "# Abstract function for reducing repetitive code (template)\n",
    "my_map <- function(fn) {\n",
    "    paris_train |>\n",
    "    select(-person_capacity) |>\n",
    "    # apply function from parameter into map function\n",
    "    map_df(fn) |>\n",
    "    # pivot for a better view\n",
    "    pivot_longer(cols = c(realSum, cleanliness_rating:metro_dist), values_to = as.character(substitute(fn)), names_to = \"variable\")\n",
    "}\n",
    "\n",
    "# combine all the statistical summaries, but exclude the variable column from all except the first one.\n",
    "bind_cols(my_map(min), select(my_map(mean), mean), select(my_map(max), max), select(my_map(sd), sd))"
   ]
  },
  {
   "cell_type": "markdown",
   "id": "6348c4da-bc87-4de2-869a-990437671136",
   "metadata": {},
   "source": [
    "Based on the analysis above, there isn't any invalid or missing values in the dataset. Therefore, no further data wrangling is necessary at this stage.\n",
    "#### Visualization of training data subset\n",
    "\n",
    "The last part involves plots that are relevant to the objective.\n",
    "The first plot is a distribution of the `realSum` class variable (in defined ranges)."
   ]
  },
  {
   "cell_type": "code",
   "execution_count": null,
   "id": "5c7e3610-5df6-4f2f-a1a2-5e5577f114b4",
   "metadata": {},
   "outputs": [],
   "source": [
    "options(repr.plot.width = 10, repr.plot.height = 10)\n",
    "\n",
    "# define the breakpoints for the realSum column\n",
    "breaks <- c(0, 100, 200, 300, 400, 500, 600, 700, Inf)\n",
    "\n",
    "# create a new column with the ranges\n",
    "paris_train$realSumRange <- cut(paris_train$realSum, breaks = breaks, include.lowest = TRUE)\n",
    "\n",
    "# plotting the distribution of Airbnbs throught Paris, based on the price range\n",
    "# create a histogram with ggplot2\n",
    "paris_graph_freq <- ggplot(paris_train, aes(x = realSumRange)) +\n",
    "    geom_bar() +\n",
    "    labs(x = \"Price Range (EUR)\", y = \"Number of Airbnbs\") + \n",
    "    ggtitle(\"Distribution of Airbnbs\") +\n",
    "    theme(text = element_text(size = 20)) +\n",
    "    scale_x_discrete(labels = c(\"0-100\", \"100-200\", \"200-300\", \"300-400\", \"400-500\", \"500-600\", \"600-700\", \"700+\"))\n",
    "paris_graph_freq"
   ]
  },
  {
   "cell_type": "markdown",
   "id": "6d5e71f6-2988-4b62-86f8-5b46b389b225",
   "metadata": {},
   "source": [
    "The plot above shows that the `realSum` variable is (somewhat) normally distributed with the center 200-300. "
   ]
  },
  {
   "cell_type": "markdown",
   "id": "fb2b867e-243b-473e-bc74-970c97ebc0a9",
   "metadata": {},
   "source": [
    "The second plot compares the distribution of the potential predictor variables. The data is normalized with `scale()` and plotted as histograms (an appropriate visual comparison) with `facet_wrap()`. Outliers are removed to improve the visualization."
   ]
  },
  {
   "cell_type": "code",
   "execution_count": null,
   "id": "e273631d-8d0d-4442-b888-77829a04ff13",
   "metadata": {},
   "outputs": [],
   "source": [
    "options(repr.plot.width = 20, repr.plot.height = 12)\n",
    "\n",
    "#normalize the data with respect to each predictor variable\n",
    "paris_train_normalized <- paris_train |>\n",
    "  select(realSum, guest_satisfaction_overall, dist, metro_dist) |>\n",
    "  scale() |>\n",
    "  as.data.frame()\n",
    "\n",
    "paris_train_longer <- pivot_longer(paris_train_normalized, cols = realSum:metro_dist, names_to = \"variable\", values_to = \"value\")\n",
    "\n",
    "# define binwidth constant\n",
    "PREDICTOR_BINWIDTH <- 0.25\n",
    "\n",
    "# code to plot without excluding outliers\n",
    "# paris_predictor_histogram <- ggplot(paris_training_normalized_longer, aes(x = value)) + \n",
    "#     geom_histogram(binwidth = PREDICTOR_BINWIDTH) +\n",
    "#     facet_grid(rows = vars(variable)) +\n",
    "#     ggtitle(\"Normalized histogram of predictor variables\") +\n",
    "#     labs(x = \"Normalized value of predictor variables\", y = \"Number of Airbnbs\") + \n",
    "#     theme(text = element_text(size = 18))\n",
    "\n",
    "# remove outliers that are outside of 3 standard deviations\n",
    "paris_train_normalized_longer_eo <- filter(paris_train_longer, value < 3 & value > -3)\n",
    "\n",
    "paris_predictor_histogram_eo <- ggplot(paris_train_normalized_longer_eo, aes(x = value)) + \n",
    "    geom_histogram(binwidth = PREDICTOR_BINWIDTH) +\n",
    "    facet_wrap(vars(variable)) +\n",
    "    ggtitle(\"Normalized histogram of predictor variables (excl. outliers)\") +\n",
    "    labs(x = \"Normalized value of predictor variables\", y = \"Number of Airbnbs\") + \n",
    "    theme(text = element_text(size = 18))\n",
    "\n",
    "paris_predictor_histogram_eo"
   ]
  },
  {
   "cell_type": "markdown",
   "id": "c8f6cebf-4262-4601-8152-5da1b2f2bd0c",
   "metadata": {},
   "source": [
    "The second plot shows that some of the predictor variable distributions tend to be positively skewed and some distributions are taller than others.\n",
    "\n",
    "The third plot involves `ggpairs()` from the `GGally` extension of `ggplot2`. It will create a scatter plot matrix with correlation coefficients that allows visualizations of relationships between predictor variables. For this visualization, `realSumRange` is removed from the dataset as it is not relevant to the analysis being performed here, it was already explored in a separate analysis above."
   ]
  },
  {
   "cell_type": "code",
   "execution_count": null,
   "id": "6fc99818-f87f-4967-bfc9-790c0ed90106",
   "metadata": {},
   "outputs": [],
   "source": [
    "options(repr.plot.width = 16, repr.plot.height = 10)\n",
    "paris_train |>\n",
    "  select(-realSumRange) |>\n",
    "  ggpairs()"
   ]
  },
  {
   "cell_type": "markdown",
   "id": "555af1b9-d167-41c7-b7b1-d66a7845ad24",
   "metadata": {},
   "source": [
    "From the plot above, the correlation coefficient between variables can be seen along with the scatterplot.\n",
    "\n",
    "Below is an example scatter plot to explore the two predictor variables that have relatively highest correlation with each other. In the first plot, distance from the city center vs. listing price is used for axes, and the `realSumRange` variable as the color. The data used in this scatter plot is not normalized."
   ]
  },
  {
   "cell_type": "code",
   "execution_count": null,
   "id": "be125108-9abb-434f-aae7-179818ea63ad",
   "metadata": {},
   "outputs": [],
   "source": [
    "options(repr.plot.width = 16, repr.plot.height = 10)\n",
    "\n",
    "ggplot(paris_train, aes(x = dist, y = realSum, color = cut(realSum, breaks = c(0,100,200,300,400,500,600,700, Inf), \n",
    "                                                           labels = c(\"0-100\", \"100-200\", \"200-300\", \"300-400\", \"400-500\", \"500-600\", \"600-700\", \"700+\")))) +\n",
    "  geom_point(alpha = 0.7) +\n",
    "  ggtitle(\"Distance from the city center vs. Listing price\") +\n",
    "  labs(x = \"Distance from city center (km)\", y = \"Listing Price (EUR)\", color = \"Price Range (EUR)\") + \n",
    "  theme(text = element_text(size = 18))"
   ]
  },
  {
   "cell_type": "markdown",
   "id": "f38832a1-05e1-4196-9671-220067b9ce07",
   "metadata": {},
   "source": [
    "This example shows that an increase in the distance from the city center generally results in a decrease in the listing price of the Airbnb. This is evident from the majority of scatter points being clustered towards the left-hand side of the plot.\n",
    "\n",
    "The next scatter plot explores the relationship between two predictor variables, the distance from the city center and the listing price, while also using the realSumRange variable to indicate the color. The data used in this scatter plot is not normalized."
   ]
  },
  {
   "cell_type": "code",
   "execution_count": null,
   "id": "cb64ca68-c543-4b32-8af2-b22c1f02348b",
   "metadata": {},
   "outputs": [],
   "source": [
    "options(repr.plot.width = 16, repr.plot.height = 10)\n",
    "\n",
    "ggplot(paris_train, aes(x = metro_dist, y = realSum, color = cut(realSum, breaks = c(0,100,200,300,400,500,600,700, Inf), \n",
    "                                                                 labels = c(\"0-100\", \"100-200\", \"200-300\", \"300-400\", \"400-500\", \"500-600\", \"600-700\", \"700+\")))) +\n",
    "  geom_point(alpha = 0.7) +\n",
    "  ggtitle(\"Distance from the nearest metro station vs. listing price\") +\n",
    "  labs(x = \"Distance from nearest metro station (km)\", y = \"Listing Price (EUR)\", color = \"Price Range (EUR)\") + \n",
    "  theme(text = element_text(size = 18))"
   ]
  },
  {
   "cell_type": "markdown",
   "id": "7af06d25-d56a-4453-a5f5-27c420b50619",
   "metadata": {},
   "source": [
    "Similar to the first scatter plot, this example shows that an increase in the distance from the metro station generally results in a decrease in the listing price of the Airbnb. This is evident from the majority of scatter points being clustered towards the left-hand side of the plot, with some of the most expensive Airbnbs being located close to a metro station.\n",
    "\n",
    "The next scatter plots further explore the relationship between the `dist`, `metro_dist`, and `guest_satisfaction_overall` variables. The data used in these scatter plots are not normalized. The first scatter plot compares the distance from the city center with the Guest Satisfaction ratings. "
   ]
  },
  {
   "cell_type": "code",
   "execution_count": null,
   "id": "bc94a233-423e-4476-89fb-770e7b6f65bd",
   "metadata": {},
   "outputs": [],
   "source": [
    "options(repr.plot.width = 16, repr.plot.height = 10)\n",
    "\n",
    "ggplot(paris_train, aes(x = dist, y = guest_satisfaction_overall)) +\n",
    "  geom_point(alpha = 0.7) +\n",
    "  ggtitle(\"Distance from the city center vs. Guest Satisfaction\") +\n",
    "  labs(x = \"Distance from city center (km)\", y = \"Guest Satisfaction (Overall)\") + \n",
    "  theme(text = element_text(size = 18))\n"
   ]
  },
  {
   "cell_type": "markdown",
   "id": "0d40605c-beea-44be-a0f5-05ab42fe1e34",
   "metadata": {},
   "source": [
    "This example shows that an increase in the distance from the city center generally results in a decrease in guest satisfaction ratings. This is evident from the majority of scatter points being clustered towards the upper-left hand side of the plot.\n",
    "\n",
    "The next scatter plot compares the distance from the nearest metro station with the Guest Satisfaction ratings. "
   ]
  },
  {
   "cell_type": "code",
   "execution_count": null,
   "id": "c9d2d23f-52f9-4ff2-8d0f-8d666648f28c",
   "metadata": {},
   "outputs": [],
   "source": [
    "options(repr.plot.width = 16, repr.plot.height = 10)\n",
    "\n",
    "ggplot(paris_train, aes(x = metro_dist, y = guest_satisfaction_overall)) +\n",
    "  geom_point(alpha = 0.7) +\n",
    "  ggtitle(\"Distance from the nearest metro station vs. Guest Satisfaction\") +\n",
    "  labs(x = \"Distance from nearest metro station (km)\", y = \"Guest Satisfaction (Overall)\") + \n",
    "  theme(text = element_text(size = 18))\n"
   ]
  },
  {
   "cell_type": "markdown",
   "id": "bc84e4cf-30cf-4ca7-8a39-86650683ed3e",
   "metadata": {},
   "source": [
    "Similarly, this example shows that an increase in the distance from the metro station generally results in a decrease in guest satisfaction ratings. This is evident from the majority of scatter points being clustered towards the upper-left hand side of the plot, with some of the most expensive Airbnbs being located close to a metro station."
   ]
  },
  {
   "cell_type": "markdown",
   "id": "09e8e3c2-9377-48ee-a169-3c3755f70ddd",
   "metadata": {},
   "source": [
    "### Methods\n",
    "\n",
    "During our analysis of the factors that affect Airbnb prices, we found several predictor variables that play a role in determining prices, such as location, guest satisfaction score, cleanliness rating, etc. Thus, it would be appropriate to conduct data analysis with all filtered variables in the dataset.\n",
    "\n",
    "For visualizing the results of the analysis, a scatter plot or heat map can be created with prices as the dependent variable and the most prominent variables as independent variables. This way any trends or patterns that may exist can be more easily visualized. "
   ]
  },
  {
   "cell_type": "markdown",
   "id": "317e3a14-bb75-43be-a0b0-a85b89cfe06b",
   "metadata": {},
   "source": [
    "### Expected outcomes and significance\n",
    "\n",
    "\n",
    "#### 1. What do you expect to find?\n",
    "\n",
    "We hypothesize that the proximity of Airbnb locations to popular attractions and amenities (metro stations) will have a positive impact on guest satisfaction and increase of listing price.\n",
    "\n",
    "#### 2. What impact could such findings have?\n",
    "These findings could influence the location of new Airbnb listings and their amenities as they would be catered to guest preferences. The pricing and marketing strategies of Airbnb's would also be affected if the data support the prediction. Airbnb’s near popular attractions or public transportation can command higher prices for their listings. Those farther away may need to adjust their pricing strategy or marketing approach to remain competitive. \n",
    "    \n",
    "#### 3. What future questions could this lead to?\n",
    "These impacts lead to two questions: 1. This impact allows us to question what businesses will be most affected by increasing tourism, both positively and negatively, and 2. What amenities or attractions are most strongly associated with higher guest satisfaction and pricing in different cities or regions? \n",
    "\n",
    "These findings could lead to further research to determine which specific businesses or industries would be most impacted by increased tourism, both positively and negatively. Additionally, future research could investigate the amenities or attractions that are most strongly associated with higher guest satisfaction and pricing in different cities or regions."
   ]
  },
  {
   "cell_type": "markdown",
   "id": "68389741-c562-4f29-8c7f-d2c93d99d428",
   "metadata": {},
   "source": [
    "#### References:\n",
    "1. https://www.kaggle.com/datasets/thedevastator/airbnb-prices-in-european-cities?select=paris_weekends.csv \n",
    "2. https://www.sciencedirect.com/science/article/pii/S0261517718300785\n",
    "3. https://www.sciencedirect.com/science/article/pii/S1877916621000424 "
   ]
  }
 ],
 "metadata": {
  "kernelspec": {
   "display_name": "R",
   "language": "R",
   "name": "ir"
  },
  "language_info": {
   "codemirror_mode": "r",
   "file_extension": ".r",
   "mimetype": "text/x-r-source",
   "name": "R",
   "pygments_lexer": "r",
   "version": "4.1.3"
  }
 },
 "nbformat": 4,
 "nbformat_minor": 5
}
